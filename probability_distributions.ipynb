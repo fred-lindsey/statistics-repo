{
 "cells": [
  {
   "cell_type": "code",
   "execution_count": 1,
   "id": "d1e23a4c",
   "metadata": {},
   "outputs": [],
   "source": [
    "import matplotlib.pyplot as plt\n",
    "import numpy as np\n",
    "import pandas as pd\n",
    "from scipy import stats"
   ]
  },
  {
   "cell_type": "markdown",
   "id": "5c0d1337",
   "metadata": {},
   "source": [
    "## 1. A bank found that the average number of cars waiting during the noon hour at a drive-up window follows a Poisson distribution with a mean of 2 cars. Make a chart of this distribution and answer these questions concerning the probability of cars waiting at the drive-up window."
   ]
  },
  {
   "cell_type": "code",
   "execution_count": 11,
   "id": "d74c21fc",
   "metadata": {},
   "outputs": [
    {
     "data": {
      "text/plain": [
       "<BarContainer object of 10 artists>"
      ]
     },
     "execution_count": 11,
     "metadata": {},
     "output_type": "execute_result"
    },
    {
     "data": {
      "image/png": "[encoded data removed]",
      "text/plain": [
       "<Figure size 432x288 with 1 Axes>"
      ]
     },
     "metadata": {
      "needs_background": "light"
     },
     "output_type": "display_data"
    }
   ],
   "source": [
    "# mean of cars is two. that will be our lambda for the Poisson Dist\n",
    "cars = 2\n",
    "\n",
    "x = np.arange(0, 10)\n",
    "y = stats.poisson(cars).pmf(x)\n",
    "plt.bar(x, y)"
   ]
  },
  {
   "cell_type": "markdown",
   "id": "e24c1cca",
   "metadata": {},
   "source": [
    "- What is the probability that no cars drive up in the noon hour?"
   ]
  },
  {
   "cell_type": "code",
   "execution_count": 2,
   "id": "a594cfd8",
   "metadata": {},
   "outputs": [
    {
     "data": {
      "text/plain": [
       "0.1353352832366127"
      ]
     },
     "execution_count": 2,
     "metadata": {},
     "output_type": "execute_result"
    }
   ],
   "source": [
    "stats.poisson(cars).pmf(0)"
   ]
  },
  {
   "cell_type": "markdown",
   "id": "158eb358",
   "metadata": {},
   "source": [
    "- What is the probability that 3 or more cars come through the drive through?"
   ]
  },
  {
   "cell_type": "code",
   "execution_count": 6,
   "id": "a2098ca5",
   "metadata": {},
   "outputs": [
    {
     "data": {
      "text/plain": [
       "0.32332358381693654"
      ]
     },
     "execution_count": 6,
     "metadata": {},
     "output_type": "execute_result"
    }
   ],
   "source": [
    "stats.poisson(cars).sf(2) #sf is exclusive"
   ]
  },
  {
   "cell_type": "markdown",
   "id": "7da3ec95",
   "metadata": {},
   "source": [
    "- How likely is it that the drive through gets at least 1 car?"
   ]
  },
  {
   "cell_type": "code",
   "execution_count": 12,
   "id": "378c6681",
   "metadata": {},
   "outputs": [
    {
     "data": {
      "text/plain": [
       "0.8646647167633873"
      ]
     },
     "execution_count": 12,
     "metadata": {},
     "output_type": "execute_result"
    }
   ],
   "source": [
    "stats.poisson(cars).sf(0)"
   ]
  },
  {
   "cell_type": "markdown",
   "id": "f5287348",
   "metadata": {},
   "source": [
    "## 2. Grades of State University graduates are normally distributed with a mean of 3.0 and a standard deviation of .3. Calculate the following:\n",
    "\n",
    "What grade point average is required to be in the top 5% of the graduating class?"
   ]
  },
  {
   "cell_type": "code",
   "execution_count": 16,
   "id": "3e2490e2",
   "metadata": {},
   "outputs": [
    {
     "data": {
      "text/plain": [
       "3.4934560880854417"
      ]
     },
     "execution_count": 16,
     "metadata": {},
     "output_type": "execute_result"
    }
   ],
   "source": [
    "mean = 3\n",
    "std = .3\n",
    "\n",
    "su_grades = stats.norm(mean, std)\n",
    "su_grades.isf(0.05)"
   ]
  },
  {
   "cell_type": "markdown",
   "id": "a445ae2e",
   "metadata": {},
   "source": [
    "What GPA constitutes the bottom 15% of the class?"
   ]
  },
  {
   "cell_type": "code",
   "execution_count": 17,
   "id": "ba2a48a8",
   "metadata": {},
   "outputs": [
    {
     "data": {
      "text/plain": [
       "2.689069983151863"
      ]
     },
     "execution_count": 17,
     "metadata": {},
     "output_type": "execute_result"
    }
   ],
   "source": [
    "su_grades.isf(0.85)"
   ]
  },
  {
   "cell_type": "markdown",
   "id": "4a634303",
   "metadata": {},
   "source": [
    "An eccentric alumnus left scholarship money for students in the third decile from the bottom of their class. Determine the range of the third decile. Would a student with a 2.8 grade point average qualify for this scholarship?"
   ]
  },
  {
   "cell_type": "code",
   "execution_count": 20,
   "id": "175b8fd0",
   "metadata": {},
   "outputs": [
    {
     "data": {
      "text/plain": [
       "2.7580736258945278"
      ]
     },
     "execution_count": 20,
     "metadata": {},
     "output_type": "execute_result"
    }
   ],
   "source": [
    "bottom_of_third_decile = su_grades.isf(0.79)\n",
    "bottom_of_third_decile"
   ]
  },
  {
   "cell_type": "code",
   "execution_count": 22,
   "id": "6ec1f77b",
   "metadata": {},
   "outputs": [
    {
     "data": {
      "text/plain": [
       "2.842679846187588"
      ]
     },
     "execution_count": 22,
     "metadata": {},
     "output_type": "execute_result"
    }
   ],
   "source": [
    "top_of_third_decile = su_grades.isf(0.70)\n",
    "top_of_third_decile\n",
    "# the range is 2.758 - 2.843"
   ]
  },
  {
   "cell_type": "markdown",
   "id": "8ba15a95",
   "metadata": {},
   "source": [
    "If I have a GPA of 3.5, what percentile am I in?"
   ]
  },
  {
   "cell_type": "code",
   "execution_count": 23,
   "id": "df38c4bb",
   "metadata": {},
   "outputs": [
    {
     "data": {
      "text/plain": [
       "0.3315904626424956"
      ]
     },
     "execution_count": 23,
     "metadata": {},
     "output_type": "execute_result"
    }
   ],
   "source": [
    "su_grades.pdf(3.5)"
   ]
  },
  {
   "cell_type": "markdown",
   "id": "a1ebbb3e",
   "metadata": {},
   "source": [
    "## 3. A marketing website has an average click-through rate of 2%. One day they observe 4326 visitors and 97 click-throughs. How likely is it that this many people or more click through?"
   ]
  },
  {
   "cell_type": "code",
   "execution_count": 31,
   "id": "ba987481",
   "metadata": {},
   "outputs": [
    {
     "data": {
      "text/plain": [
       "0.14211867659283192"
      ]
     },
     "execution_count": 31,
     "metadata": {},
     "output_type": "execute_result"
    }
   ],
   "source": [
    "## average click through rate of 2%. this is the success rate, \n",
    "## but web traffic is continuous so this will follow a poisson distribution\n",
    "\n",
    "ct_rate = 0.02\n",
    "expected_ct = 4326 * 0.02\n",
    "actual_ct = 97\n",
    "\n",
    "site_impacts = stats.poisson(expected_ct)\n",
    "site_impacts.sf(actual_ct - 1) #sf is exclusive"
   ]
  },
  {
   "cell_type": "markdown",
   "id": "9d7595d4",
   "metadata": {},
   "source": [
    "## 4. You are working on some statistics homework consisting of 100 questions where all of the answers are a probability rounded to the hundreths place. Looking to save time, you put down random probabilities as the answer to each question.\n",
    "\n",
    "What is the probability that at least one of your first 60 answers is correct?"
   ]
  },
  {
   "cell_type": "code",
   "execution_count": 34,
   "id": "40d8154b",
   "metadata": {},
   "outputs": [
    {
     "data": {
      "text/plain": [
       "0.45284335760923855"
      ]
     },
     "execution_count": 34,
     "metadata": {},
     "output_type": "execute_result"
    }
   ],
   "source": [
    "## the output here is correct/incorrect, with a set number of instances >> binomial distribution\n",
    "\n",
    "p = 0.01\n",
    "questions = 60\n",
    "\n",
    "correct_answers = stats.binom(questions, p)\n",
    "correct_answers.sf(0)"
   ]
  },
  {
   "cell_type": "markdown",
   "id": "c77b2c59",
   "metadata": {},
   "source": [
    "## 5. The codeup staff tends to get upset when the student break area is not cleaned up. Suppose that there's a 3% chance that any one student cleans the break area when they visit it, and, on any given day, about 90% of the 3 active cohorts of 22 students visit the break area. How likely is it that the break area gets cleaned up each day? "
   ]
  },
  {
   "cell_type": "code",
   "execution_count": 36,
   "id": "fbc7beed",
   "metadata": {},
   "outputs": [
    {
     "data": {
      "text/plain": [
       "0.8362274861228873"
      ]
     },
     "execution_count": 36,
     "metadata": {},
     "output_type": "execute_result"
    }
   ],
   "source": [
    "## students either clean or don't (binary outcome), and there are a set number of daily visits. Binomial dist\n",
    "\n",
    "daily_visits = 0.9 * 3 * 22\n",
    "p_clean_up = 0.03\n",
    "\n",
    "p_daily_clean = stats.binom(daily_visits, p_clean_up)\n",
    "p_daily_clean.sf(0)"
   ]
  },
  {
   "cell_type": "markdown",
   "id": "eb658635",
   "metadata": {},
   "source": [
    "How likely is it that it goes two days without getting cleaned up? "
   ]
  },
  {
   "cell_type": "code",
   "execution_count": 37,
   "id": "fab09e02",
   "metadata": {},
   "outputs": [
    {
     "data": {
      "text/plain": [
       "0.026821436301629073"
      ]
     },
     "execution_count": 37,
     "metadata": {},
     "output_type": "execute_result"
    }
   ],
   "source": [
    "p_two_dirty_days = stats.binom(daily_visits * 2, p_clean_up)\n",
    "p_two_dirty_days.cdf(0.99)"
   ]
  },
  {
   "cell_type": "markdown",
   "id": "1d685e06",
   "metadata": {},
   "source": [
    "All week?"
   ]
  },
  {
   "cell_type": "code",
   "execution_count": 38,
   "id": "ac5ac7e5",
   "metadata": {},
   "outputs": [
    {
     "data": {
      "text/plain": [
       "0.00011781621791055144"
      ]
     },
     "execution_count": 38,
     "metadata": {},
     "output_type": "execute_result"
    }
   ],
   "source": [
    "p_five_dirty_days = stats.binom(daily_visits * 5, p_clean_up)\n",
    "p_five_dirty_days.cdf(0.99)"
   ]
  },
  {
   "cell_type": "markdown",
   "id": "c2ad48dd",
   "metadata": {},
   "source": [
    "## 6. You want to get lunch at La Panaderia, but notice that the line is usually very long at lunchtime. After several weeks of careful observation, you notice that the average number of people in line when your lunch break starts is normally distributed with a mean of 15 and standard deviation of 3. If it takes 2 minutes for each person to order, and 10 minutes from ordering to getting your food, what is the likelihood that you have at least 15 minutes left to eat your food before you have to go back to class? Assume you have one hour for lunch, and ignore travel time to and from La Panaderia."
   ]
  },
  {
   "cell_type": "code",
   "execution_count": 42,
   "id": "5b8bc0c1",
   "metadata": {},
   "outputs": [
    {
     "data": {
      "text/plain": [
       "0.6305586598182363"
      ]
     },
     "execution_count": 42,
     "metadata": {},
     "output_type": "execute_result"
    }
   ],
   "source": [
    "mean = 15\n",
    "std = 3\n",
    "line_short_enough = 16\n",
    "\n",
    "#the number of people in line will be the isf to feed into the completed fucntion for probability\n",
    "\n",
    "line_length = stats.norm(15, 3)\n",
    "\n",
    "lunch_at_panaderia = line_length.cdf(line_short_enough)\n",
    "\n",
    "lunch_at_panaderia\n"
   ]
  },
  {
   "cell_type": "code",
   "execution_count": null,
   "id": "8d11961b",
   "metadata": {},
   "outputs": [],
   "source": []
  }
 ],
 "metadata": {
  "kernelspec": {
   "display_name": "Python 3 (ipykernel)",
   "language": "python",
   "name": "python3"
  },
  "language_info": {
   "codemirror_mode": {
    "name": "ipython",
    "version": 3
   },
   "file_extension": ".py",
   "mimetype": "text/x-python",
   "name": "python",
   "nbconvert_exporter": "python",
   "pygments_lexer": "ipython3",
   "version": "3.9.7"
  }
 },
 "nbformat": 4,
 "nbformat_minor": 5
}
