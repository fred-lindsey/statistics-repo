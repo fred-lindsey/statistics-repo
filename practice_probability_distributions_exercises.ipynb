{
 "cells": [
  {
   "cell_type": "code",
   "execution_count": 18,
   "id": "a4b9c624",
   "metadata": {},
   "outputs": [],
   "source": [
    "import matplotlib.pyplot as plt\n",
    "import numpy as np\n",
    "import pandas as pd\n",
    "from scipy import stats"
   ]
  },
  {
   "cell_type": "markdown",
   "id": "d2d5f4ec",
   "metadata": {},
   "source": [
    "## 1. A bank found that the average number of cars waiting during the noon hour at a drive-up window follows a Poisson distribution with a mean of 2 cars. Make a chart of this distribution and answer these questions concerning the probability of cars waiting at the drive-up window."
   ]
  },
  {
   "cell_type": "code",
   "execution_count": 20,
   "id": "62370536",
   "metadata": {},
   "outputs": [
    {
     "data": {
      "text/plain": [
       "<BarContainer object of 10 artists>"
      ]
     },
     "execution_count": 20,
     "metadata": {},
     "output_type": "execute_result"
    },
    {
     "data": {
      "image/png": "[encoded data removed]",
      "text/plain": [
       "<Figure size 432x288 with 1 Axes>"
      ]
     },
     "metadata": {
      "needs_background": "light"
     },
     "output_type": "display_data"
    }
   ],
   "source": [
    "# mean of cars is two. that will be our lambda for the Poisson Dist\n",
    "average_cars = 2\n",
    "\n",
    "x = np.arange(0, 10)\n",
    "y = stats.poisson(average_cars).pmf(x)\n",
    "\n",
    "plt.bar(x, y)"
   ]
  },
  {
   "cell_type": "markdown",
   "id": "4bc350ee",
   "metadata": {},
   "source": [
    "- What is the probability that no cars drive up in the noon hour?"
   ]
  },
  {
   "cell_type": "code",
   "execution_count": 21,
   "id": "0cb7f9a0",
   "metadata": {},
   "outputs": [
    {
     "data": {
      "text/plain": [
       "0.1353352832366127"
      ]
     },
     "execution_count": 21,
     "metadata": {},
     "output_type": "execute_result"
    }
   ],
   "source": [
    "stats.poisson(average_cars).cdf(0) #cdf is cumulative for this value and lower, pmf is instant probability. \n",
    "#both work in this case"
   ]
  },
  {
   "cell_type": "markdown",
   "id": "40b60311",
   "metadata": {},
   "source": [
    "- What is the probability that 3 or more cars come through the drive through?"
   ]
  },
  {
   "cell_type": "code",
   "execution_count": 22,
   "id": "2a5b175b",
   "metadata": {},
   "outputs": [
    {
     "data": {
      "text/plain": [
       "0.32332358381693654"
      ]
     },
     "execution_count": 22,
     "metadata": {},
     "output_type": "execute_result"
    }
   ],
   "source": [
    "stats.poisson(average_cars).sf(2) #sf is the probability of greater than a given number, and it's exclusive"
   ]
  },
  {
   "cell_type": "markdown",
   "id": "7158b2fb",
   "metadata": {},
   "source": [
    "- How likely is it that the drive through gets at least 1 car?"
   ]
  },
  {
   "cell_type": "code",
   "execution_count": 23,
   "id": "8010b189",
   "metadata": {},
   "outputs": [
    {
     "data": {
      "text/plain": [
       "0.8646647167633873"
      ]
     },
     "execution_count": 23,
     "metadata": {},
     "output_type": "execute_result"
    }
   ],
   "source": [
    "stats.poisson(average_cars).sf(0) ##sf is exclusive"
   ]
  },
  {
   "cell_type": "markdown",
   "id": "0ab65032",
   "metadata": {},
   "source": [
    "## 2. Grades of State University graduates are normally distributed with a mean of 3.0 and a standard deviation of .3. Calculate the following:\n",
    "\n",
    "What grade point average is required to be in the top 5% of the graduating class?"
   ]
  },
  {
   "cell_type": "code",
   "execution_count": 29,
   "id": "09f27211",
   "metadata": {},
   "outputs": [
    {
     "data": {
      "text/plain": [
       "3.4963883707053234"
      ]
     },
     "execution_count": 29,
     "metadata": {},
     "output_type": "execute_result"
    }
   ],
   "source": [
    "mean = 3\n",
    "std = .3\n",
    "\n",
    "su_grades_dist = stats.norm(3, .3)\n",
    "su_grades_dist.ppf(0.95) #reverse directionality. ppf = less than or equal to a certain point, input is probability\n",
    "#another solution, more direct:\n",
    "su_grades_dist.isf(0.049) # isf is exclusive"
   ]
  },
  {
   "cell_type": "markdown",
   "id": "1a02b421",
   "metadata": {},
   "source": [
    "What GPA constitutes the bottom 15% of the class?"
   ]
  },
  {
   "cell_type": "code",
   "execution_count": 31,
   "id": "d8e9691f",
   "metadata": {},
   "outputs": [
    {
     "data": {
      "text/plain": [
       "2.6890699960186315"
      ]
     },
     "execution_count": 31,
     "metadata": {},
     "output_type": "execute_result"
    }
   ],
   "source": [
    "su_grades_dist.ppf(0.15) #value for a given probability, less than or equal to a certain point\n",
    "su_grades_dist.isf(0.84999999) #value for a given probability, greater than/equal to a certain point"
   ]
  },
  {
   "cell_type": "markdown",
   "id": "e91d284a",
   "metadata": {},
   "source": [
    "An eccentric alumnus left scholarship money for students in the third decile from the bottom of their class. Determine the range of the third decile. Would a student with a 2.8 grade point average qualify for this scholarship?"
   ]
  },
  {
   "cell_type": "code",
   "execution_count": 40,
   "id": "c43f9fe0",
   "metadata": {},
   "outputs": [
    {
     "data": {
      "text/plain": [
       "[2.7580736258945278, 2.842679846187588]"
      ]
     },
     "execution_count": 40,
     "metadata": {},
     "output_type": "execute_result"
    }
   ],
   "source": [
    "third_decile = [upper_limit, lower_limit]\n",
    "upper_limit = su_grades_dist.isf(0.79) #where 1st percentile is the best\n",
    "lower_limit = su_grades_dist.isf(0.70)\n",
    "\n",
    "\n",
    "third_decile\n",
    "# a student with a 2.8 GPA would be eligible for the scholarship"
   ]
  },
  {
   "cell_type": "code",
   "execution_count": null,
   "id": "57273920",
   "metadata": {},
   "outputs": [],
   "source": []
  },
  {
   "cell_type": "markdown",
   "id": "7322b2c4",
   "metadata": {},
   "source": [
    "If I have a GPA of 3.5, what percentile am I in?"
   ]
  },
  {
   "cell_type": "code",
   "execution_count": null,
   "id": "160065c4",
   "metadata": {},
   "outputs": [],
   "source": []
  },
  {
   "cell_type": "markdown",
   "id": "8801276e",
   "metadata": {},
   "source": [
    "## 3. A marketing website has an average click-through rate of 2%. One day they observe 4326 visitors and 97 click-throughs. How likely is it that this many people or more click through?"
   ]
  },
  {
   "cell_type": "code",
   "execution_count": 5,
   "id": "06eb697a",
   "metadata": {},
   "outputs": [],
   "source": [
    "## average click through rate of 2%. this is the success rate, \n",
    "## but web traffic is continuous so this will follow a poisson distribution\n",
    "\n"
   ]
  },
  {
   "cell_type": "markdown",
   "id": "6f6702a8",
   "metadata": {},
   "source": [
    "## 4. You are working on some statistics homework consisting of 100 questions where all of the answers are a probability rounded to the hundreths place. Looking to save time, you put down random probabilities as the answer to each question.\n",
    "\n",
    "What is the probability that at least one of your first 60 answers is correct?"
   ]
  },
  {
   "cell_type": "code",
   "execution_count": 6,
   "id": "b6449bf9",
   "metadata": {},
   "outputs": [],
   "source": [
    "## the output here is correct/incorrect, with a set number of instances >> binomial distribution\n",
    "\n"
   ]
  },
  {
   "cell_type": "markdown",
   "id": "aed6cfea",
   "metadata": {},
   "source": [
    "## 5. The codeup staff tends to get upset when the student break area is not cleaned up. Suppose that there's a 3% chance that any one student cleans the break area when they visit it, and, on any given day, about 90% of the 3 active cohorts of 22 students visit the break area. How likely is it that the break area gets cleaned up each day? "
   ]
  },
  {
   "cell_type": "code",
   "execution_count": 7,
   "id": "a6b40df0",
   "metadata": {},
   "outputs": [],
   "source": [
    "## students either clean or don't (binary outcome), and there are a set number of daily visits. Binomial dist\n",
    "\n"
   ]
  },
  {
   "cell_type": "markdown",
   "id": "5a7d97e5",
   "metadata": {},
   "source": [
    "How likely is it that it goes two days without getting cleaned up? "
   ]
  },
  {
   "cell_type": "code",
   "execution_count": null,
   "id": "30215f5d",
   "metadata": {},
   "outputs": [],
   "source": []
  },
  {
   "cell_type": "markdown",
   "id": "dcbb8ba0",
   "metadata": {},
   "source": [
    "All week?"
   ]
  },
  {
   "cell_type": "code",
   "execution_count": null,
   "id": "e584671b",
   "metadata": {},
   "outputs": [],
   "source": []
  },
  {
   "cell_type": "markdown",
   "id": "8395505d",
   "metadata": {},
   "source": [
    "## 6. You want to get lunch at La Panaderia, but notice that the line is usually very long at lunchtime. After several weeks of careful observation, you notice that the average number of people in line when your lunch break starts is normally distributed with a mean of 15 and standard deviation of 3. If it takes 2 minutes for each person to order, and 10 minutes from ordering to getting your food, what is the likelihood that you have at least 15 minutes left to eat your food before you have to go back to class? Assume you have one hour for lunch, and ignore travel time to and from La Panaderia."
   ]
  },
  {
   "cell_type": "code",
   "execution_count": 8,
   "id": "0ff8853a",
   "metadata": {},
   "outputs": [],
   "source": [
    "mean = 15\n",
    "std = 3\n",
    "\n"
   ]
  },
  {
   "cell_type": "markdown",
   "id": "b462925d",
   "metadata": {},
   "source": [
    "## 7. Connect to the employees database and find the average salary of current employees, along with the standard deviation. For the following questions, calculate the answer based on modeling the employees salaries with a normal distribution defined by the calculated mean and standard deviation then compare this answer to the actual values present in the salaries dataset."
   ]
  },
  {
   "cell_type": "code",
   "execution_count": 9,
   "id": "4179f1e6",
   "metadata": {},
   "outputs": [],
   "source": [
    "# from env import get_db_url\n",
    "# import pandas as pd\n",
    "\n",
    "# ## to import the sensitive data (username, password, we simply exported \n",
    "# ## them as a formatted string variable in VS Code\n",
    "\n",
    "# url = get_db_url('employees') ##referring to the employees DB\n",
    "\n",
    "import pandas as pd\n",
    "from env import get_db_url\n"
   ]
  },
  {
   "cell_type": "code",
   "execution_count": null,
   "id": "0c301b93",
   "metadata": {},
   "outputs": [],
   "source": []
  },
  {
   "cell_type": "code",
   "execution_count": null,
   "id": "f1c76381",
   "metadata": {},
   "outputs": [],
   "source": []
  },
  {
   "cell_type": "code",
   "execution_count": 10,
   "id": "f61b24d0",
   "metadata": {},
   "outputs": [],
   "source": [
    "## find average salary of current employees along with standard deviation"
   ]
  },
  {
   "cell_type": "code",
   "execution_count": 58,
   "id": "4744d291",
   "metadata": {},
   "outputs": [],
   "source": []
  },
  {
   "cell_type": "markdown",
   "id": "63e0529c",
   "metadata": {},
   "source": [
    "What percent of employees earn less than 60,000?"
   ]
  },
  {
   "cell_type": "code",
   "execution_count": 61,
   "id": "d1a920fe",
   "metadata": {},
   "outputs": [],
   "source": []
  },
  {
   "cell_type": "code",
   "execution_count": null,
   "id": "ed4cf48a",
   "metadata": {},
   "outputs": [],
   "source": []
  },
  {
   "cell_type": "code",
   "execution_count": null,
   "id": "17307cba",
   "metadata": {},
   "outputs": [],
   "source": []
  },
  {
   "cell_type": "markdown",
   "id": "ecb8494d",
   "metadata": {},
   "source": [
    "What percent of employees earn more than 95,000?"
   ]
  },
  {
   "cell_type": "code",
   "execution_count": null,
   "id": "46a038ee",
   "metadata": {},
   "outputs": [],
   "source": []
  },
  {
   "cell_type": "markdown",
   "id": "873ed90f",
   "metadata": {},
   "source": [
    "What percent of employees earn between 65,000 and 80,000?"
   ]
  },
  {
   "cell_type": "code",
   "execution_count": null,
   "id": "03c2af54",
   "metadata": {},
   "outputs": [],
   "source": []
  },
  {
   "cell_type": "markdown",
   "id": "e69592cc",
   "metadata": {},
   "source": [
    "What do the top 5% of employees make?"
   ]
  },
  {
   "cell_type": "code",
   "execution_count": null,
   "id": "393d7eab",
   "metadata": {},
   "outputs": [],
   "source": []
  },
  {
   "cell_type": "code",
   "execution_count": null,
   "id": "7494ca06",
   "metadata": {},
   "outputs": [],
   "source": []
  }
 ],
 "metadata": {
  "kernelspec": {
   "display_name": "Python 3 (ipykernel)",
   "language": "python",
   "name": "python3"
  },
  "language_info": {
   "codemirror_mode": {
    "name": "ipython",
    "version": 3
   },
   "file_extension": ".py",
   "mimetype": "text/x-python",
   "name": "python",
   "nbconvert_exporter": "python",
   "pygments_lexer": "ipython3",
   "version": "3.9.7"
  }
 },
 "nbformat": 4,
 "nbformat_minor": 5
}
