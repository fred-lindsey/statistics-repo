{
 "cells": [
  {
   "cell_type": "markdown",
   "id": "d927ca95",
   "metadata": {},
   "source": [
    "## Generating Random numbers:"
   ]
  },
  {
   "cell_type": "markdown",
   "id": "319f359d",
   "metadata": {},
   "source": [
    "# 1. A. Key libraries/packages:"
   ]
  },
  {
   "cell_type": "code",
   "execution_count": 73,
   "id": "322a34f5",
   "metadata": {},
   "outputs": [],
   "source": [
    "import numpy as np\n",
    "import itertools #combinations, for programmatic variable comparisons\n",
    "import seaborn as sns\n",
    "import scipy\n",
    "import scipy.stats as stats\n",
    "import pandas as pd\n",
    "import matplotlib.pyplot as plt\n",
    "import env"
   ]
  },
  {
   "cell_type": "markdown",
   "id": "da7d2caa",
   "metadata": {},
   "source": [
    "# 1. B. Importing with SQL:"
   ]
  },
  {
   "cell_type": "code",
   "execution_count": 73,
   "id": "20386d36",
   "metadata": {},
   "outputs": [],
   "source": [
    "## make sure env and .gitignore are in your current directory (CMD + SHIFT + period)\n",
    "import env\n",
    "from env import get_db_url\n",
    "url = get_db_url('employees')\n",
    "df = pd.read_sql(\"Query\", url)"
   ]
  },
  {
   "cell_type": "markdown",
   "id": "81cb8982",
   "metadata": {},
   "source": [
    "### Generate Random Numbers and Shape into an Array:"
   ]
  },
  {
   "cell_type": "code",
   "execution_count": 4,
   "id": "0b8416b8",
   "metadata": {},
   "outputs": [
    {
     "data": {
      "text/plain": [
       "0.8359"
      ]
     },
     "execution_count": 4,
     "metadata": {},
     "output_type": "execute_result"
    }
   ],
   "source": [
    "# simulate the outcome of rolling 3 dice, 10k times\n",
    "ncols = ndice = 3\n",
    "nrows = nrolls = 10000\n",
    "\n",
    "rolls = np.random.choice([1, 2, 3, 4, 5, 6],\n",
    "                        ndice * nrolls).reshape(nrows, ncols)\n",
    "\n",
    "rolls\n",
    "\n",
    "#then we can manipulate the data...\n",
    "wins = rolls.sum(axis=1) > 7\n",
    "wins.mean()"
   ]
  },
  {
   "cell_type": "markdown",
   "id": "38bdfbb4",
   "metadata": {},
   "source": [
    "### Scipy Objects\n",
    "- value -> probability  \n",
    "   -- pmf: probability at a particular value of random variable (only for discrete distributions!)  \n",
    "    -- pdf: probability at a particular value of random variable (for continuous distributions)  \n",
    "   -- cdf: cumulative probablity for less than or equal to value of random variable   \n",
    "   -- sf:  probability for a random variable **greater than** certain value\n",
    "- probability -> value  \n",
    "   -- ppf: less than or equal to a point \n",
    "   -- isf: greater than a point  \n",
    "- rvs for random values "
   ]
  },
  {
   "cell_type": "markdown",
   "id": "245f185a",
   "metadata": {},
   "source": [
    "# 2. Measuring Probability Distributions:"
   ]
  },
  {
   "cell_type": "code",
   "execution_count": 20,
   "id": "479e0b4a",
   "metadata": {},
   "outputs": [
    {
     "data": {
      "text/plain": [
       "array([[6, 3, 2, 5, 5, 5],\n",
       "       [2, 5, 1, 2, 2, 4],\n",
       "       [3, 1, 6, 6, 1, 1],\n",
       "       [4, 3, 4, 1, 4, 4],\n",
       "       [2, 6, 4, 5, 6, 2]])"
      ]
     },
     "execution_count": 20,
     "metadata": {},
     "output_type": "execute_result"
    }
   ],
   "source": [
    "#random discrete variable:\n",
    "die_distribution = stats.randint(1,7)\n",
    "die_distribution.rvs((5,6)) #rows, then columns"
   ]
  },
  {
   "cell_type": "markdown",
   "id": "6749d1f8",
   "metadata": {},
   "source": [
    "### Distribution: Descriptive methods"
   ]
  },
  {
   "cell_type": "code",
   "execution_count": 21,
   "id": "0e120eb2",
   "metadata": {},
   "outputs": [
    {
     "data": {
      "text/plain": [
       "0.16666666666666666"
      ]
     },
     "execution_count": 21,
     "metadata": {},
     "output_type": "execute_result"
    }
   ],
   "source": [
    "#what's the probability we will roll a 3? (PMF for discrete/PDF for continuous)\n",
    "die_distribution.pmf(3) #likelihood of instantaneous probability"
   ]
  },
  {
   "cell_type": "code",
   "execution_count": 22,
   "id": "768410c6",
   "metadata": {},
   "outputs": [
    {
     "data": {
      "text/plain": [
       "0.6666666666666667"
      ]
     },
     "execution_count": 22,
     "metadata": {},
     "output_type": "execute_result"
    }
   ],
   "source": [
    "#what's the proabability we will roll a 3 or higher? (SF)\n",
    "die_distribution.sf(2) #sf is exclusive, prob above given number"
   ]
  },
  {
   "cell_type": "code",
   "execution_count": 23,
   "id": "d9294f73",
   "metadata": {},
   "outputs": [
    {
     "data": {
      "text/plain": [
       "2.0"
      ]
     },
     "execution_count": 23,
     "metadata": {},
     "output_type": "execute_result"
    }
   ],
   "source": [
    "#what's the value we will roll higher than, 0.666667 of time? (ISF)\n",
    "die_distribution.isf(0.666667)"
   ]
  },
  {
   "cell_type": "code",
   "execution_count": 24,
   "id": "ad7a61ce",
   "metadata": {},
   "outputs": [
    {
     "data": {
      "text/plain": [
       "0.5"
      ]
     },
     "execution_count": 24,
     "metadata": {},
     "output_type": "execute_result"
    }
   ],
   "source": [
    "#what's the probability we will roll a 3 or lower? (CDF)\n",
    "die_distribution.cdf(3) #cumulative probability at 3 or lower"
   ]
  },
  {
   "cell_type": "code",
   "execution_count": 25,
   "id": "1d844aa9",
   "metadata": {},
   "outputs": [
    {
     "data": {
      "text/plain": [
       "3.0"
      ]
     },
     "execution_count": 25,
     "metadata": {},
     "output_type": "execute_result"
    }
   ],
   "source": [
    "#given probability of 0.5, what is the number we will roll or lower? (PPF)\n",
    "die_distribution.ppf(0.5)"
   ]
  },
  {
   "cell_type": "markdown",
   "id": "80d416f7",
   "metadata": {},
   "source": [
    "### A. Uniform Distribution\n",
    "\n",
    "### \"All outcomes are equally likely\""
   ]
  },
  {
   "cell_type": "markdown",
   "id": "2a670086",
   "metadata": {},
   "source": [
    "#### The distribution where we have:\n",
    "- an equal likelihood of all outcomes (fair 6 sided dice), discrete variables\n",
    "- need: number of outcomes (6), probability (1/n)"
   ]
  },
  {
   "cell_type": "code",
   "execution_count": 46,
   "id": "72bacbc7",
   "metadata": {},
   "outputs": [
    {
     "data": {
      "text/plain": [
       "(array([    0., 16760., 16528., 16982., 16632., 16502., 16596.,     0.]),\n",
       " array([0, 1, 2, 3, 4, 5, 6, 7, 8]),\n",
       " <BarContainer object of 8 artists>)"
      ]
     },
     "execution_count": 46,
     "metadata": {},
     "output_type": "execute_result"
    },
    {
     "data": {
      "image/png": "[encoded data removed]",
      "text/plain": [
       "<Figure size 432x288 with 1 Axes>"
      ]
     },
     "metadata": {
      "needs_background": "light"
     },
     "output_type": "display_data"
    }
   ],
   "source": [
    "n = 100000\n",
    "x = die_distribution.rvs(n)\n",
    "\n",
    "plt.hist(x, bins=range(0,9), edgecolor='black')"
   ]
  },
  {
   "cell_type": "markdown",
   "id": "05dc9584",
   "metadata": {},
   "source": [
    "### B. Binomial Distribution\n",
    "### \"How likely is a correct answer on a 20 question test with 4 choices per question?\""
   ]
  },
  {
   "cell_type": "markdown",
   "id": "b22bd7cd",
   "metadata": {},
   "source": [
    "### The distribution when we have:\n",
    "- a binary outcome (success/failure) >> a discrete variable\n",
    "- a finite number of trials/questions on a test\n",
    "- need: number of trials, p(success)"
   ]
  },
  {
   "cell_type": "code",
   "execution_count": 45,
   "id": "791a16fd",
   "metadata": {
    "collapsed": true
   },
   "outputs": [
    {
     "data": {
      "text/plain": [
       "<scipy.stats._distn_infrastructure.rv_frozen at 0x7f9ee068d910>"
      ]
     },
     "execution_count": 45,
     "metadata": {},
     "output_type": "execute_result"
    }
   ],
   "source": [
    "## Key formula:\n",
    "stats.binom(n_trials, p_success)"
   ]
  },
  {
   "cell_type": "code",
   "execution_count": 38,
   "id": "d21717ea",
   "metadata": {},
   "outputs": [
    {
     "data": {
      "text/plain": [
       "0.10572812269266013"
      ]
     },
     "execution_count": 38,
     "metadata": {},
     "output_type": "execute_result"
    }
   ],
   "source": [
    "# formula:\n",
    "n_trials = 30\n",
    "p_success = 0.25\n",
    "success_rate = stats.binom(n_trials, p_success)\n",
    "# probability of success in >10 trials?\n",
    "success_rate.sf(10)"
   ]
  },
  {
   "cell_type": "code",
   "execution_count": 44,
   "id": "f22e46b7",
   "metadata": {},
   "outputs": [
    {
     "data": {
      "text/plain": [
       "Text(0.5, 1.0, 'Trials v. Mean Success Rates')"
      ]
     },
     "execution_count": 44,
     "metadata": {},
     "output_type": "execute_result"
    },
    {
     "data": {
      "image/png": "[encoded data removed]",
      "text/plain": [
       "<Figure size 432x288 with 1 Axes>"
      ]
     },
     "metadata": {
      "needs_background": "light"
     },
     "output_type": "display_data"
    }
   ],
   "source": [
    "x=np.arange(1,30)\n",
    "y=success_rate.pmf(x)\n",
    "\n",
    "plt.bar(x, y)\n",
    "plt.figaspect(8*10)\n",
    "plt.ylabel(\"probability\")\n",
    "plt.xlabel(\"trials\")\n",
    "plt.title(\"Trials v. Mean Success Rates\")"
   ]
  },
  {
   "cell_type": "markdown",
   "id": "4e9da8f1",
   "metadata": {},
   "source": [
    "### C. Normal Distribution\n",
    "### \"What is the average height of students in San Antonio?\""
   ]
  },
  {
   "cell_type": "markdown",
   "id": "8beb03f7",
   "metadata": {},
   "source": [
    "### The distribution when we have:\n",
    "- Gaussian distribution\n",
    "- a continuous variable: height, commute time, salary\n",
    "- need: mean, standard deviation"
   ]
  },
  {
   "cell_type": "code",
   "execution_count": null,
   "id": "03817c01",
   "metadata": {},
   "outputs": [],
   "source": [
    "## Key Formula:\n",
    "stats.norm(mean, std_dev)"
   ]
  },
  {
   "cell_type": "code",
   "execution_count": 76,
   "id": "71778d22",
   "metadata": {},
   "outputs": [
    {
     "data": {
      "text/plain": [
       "1.1231612080708294e-61"
      ]
     },
     "execution_count": 76,
     "metadata": {},
     "output_type": "execute_result"
    }
   ],
   "source": [
    "gpa_mean = 6\n",
    "std = 0.355\n",
    "\n",
    "su_grades = stats.norm(gpa_mean, std)\n",
    "su_grades.pdf(0.05) #continuous variables use .pdf instead of .pmf"
   ]
  },
  {
   "cell_type": "code",
   "execution_count": 80,
   "id": "331a7a0a",
   "metadata": {},
   "outputs": [
    {
     "data": {
      "text/plain": [
       "[<matplotlib.lines.Line2D at 0x7f9ec04be700>]"
      ]
     },
     "execution_count": 80,
     "metadata": {},
     "output_type": "execute_result"
    },
    {
     "data": {
      "image/png": "[encoded data removed]",
      "text/plain": [
       "<Figure size 432x288 with 1 Axes>"
      ]
     },
     "metadata": {
      "needs_background": "light"
     },
     "output_type": "display_data"
    }
   ],
   "source": [
    "x=np.arange(1,11)\n",
    "y=su_grades.pdf(x)\n",
    "\n",
    "plt.plot(x, y)"
   ]
  },
  {
   "cell_type": "markdown",
   "id": "9391d092",
   "metadata": {},
   "source": [
    "### D. Poisson Distribution\n",
    "### \" What is the likelihood that a meteor strikes earth in a 100 year period given the earth is struck once every 452 years?\""
   ]
  },
  {
   "cell_type": "markdown",
   "id": "f20a85ac",
   "metadata": {},
   "source": [
    "### The distribution when we have:\n",
    "- a lambda value: an anticipated/theoretical occurence value for an event: number of junk emails in a day\n",
    "- a continuous variable (emails, phone calls, vehicles in traffic at location)\n",
    "- an actual occurence value\n",
    "- a specified timeframe"
   ]
  },
  {
   "cell_type": "code",
   "execution_count": null,
   "id": "309151c4",
   "metadata": {},
   "outputs": [],
   "source": [
    "## Key formula:\n",
    "# lambda = rate_of_occurrence\n",
    "stats.poisson(theoretical_rate_occurence)"
   ]
  },
  {
   "cell_type": "code",
   "execution_count": 72,
   "id": "fedceac6",
   "metadata": {},
   "outputs": [
    {
     "data": {
      "text/plain": [
       "<BarContainer object of 10 artists>"
      ]
     },
     "execution_count": 72,
     "metadata": {},
     "output_type": "execute_result"
    },
    {
     "data": {
      "image/png": "[encoded data removed]",
      "text/plain": [
       "<Figure size 432x288 with 1 Axes>"
      ]
     },
     "metadata": {
      "needs_background": "light"
     },
     "output_type": "display_data"
    }
   ],
   "source": [
    "# mean of cars is two. that will be our lambda for the Poisson Dist\n",
    "cars = 2\n",
    "\n",
    "x = np.arange(0, 10)\n",
    "y = stats.poisson(cars).pmf(x)\n",
    "plt.bar(x, y)"
   ]
  },
  {
   "cell_type": "markdown",
   "id": "bc4edc08",
   "metadata": {},
   "source": [
    "# Testing for a Relationship between variables:"
   ]
  },
  {
   "cell_type": "markdown",
   "id": "3d17d2ae",
   "metadata": {},
   "source": [
    "## 1. T-testing\n",
    "- goal: **comparing the means of two groups** (two sample test, or a group's mean to a theoretical mean (1 sample test))\n",
    "- variables compared: mean of group A, vs mean of group B. groups are categorical (\"Churned\", \"No Churn\"), mean is of a continuous variable (\"Monthly Charges\")\n",
    "\n",
    "## TWO TAILED: is one mean different than the other?\n",
    "## ONE TAILED: is one mean larger than another? (now directionality of t matters)"
   ]
  },
  {
   "cell_type": "markdown",
   "id": "f11c77d1",
   "metadata": {},
   "source": [
    "## A. One Sample T-test:\n",
    "- **key formula: tstat, p_val = scipy.stats.ttest_1samp**\n",
    "- use when: comparing a group mean, to a theoretical mean. \n",
    "    - EG churned customers monthly charges against avg monthly charges\n",
    "- process:\n",
    "    1. plot distribution (histogram): df.hist()\n",
    "    2. establish hypotheses: \n",
    "        -null: no difference in means between variables\n",
    "        -alt: there is a difference (positive or negative) between the means, or sample and population means\n",
    "            - this is a two tailed test\n",
    "    3. alpha = 0.05 (unless otherwise stated)\n",
    "    4. Verify Assumptions: \n",
    "        - Normal Distribution, or at least 30 observations and \"kinda\" normal. The more observations you have, the less \"normal\" it needs to appear. (CLT)\n",
    "    5. Compute test statistic and probability (t-statistic & p-value) using **scipy.stats.ttest_1samp.**\n",
    "    6. Reject or fail to reject the null hypothesis (declare it). p < a and t > 0 are required to rejct H0"
   ]
  },
  {
   "cell_type": "markdown",
   "id": "e43de688",
   "metadata": {},
   "source": [
    "## A. Two Sample (independent) T-test:\n",
    "- **key formula: tstat, p_val = scipy.stats.ttest_ind**\n",
    "- use when: comparing a group mean, to a theoretical mean. \n",
    "    - EG churned customers avg monthly charges against non-churn customers avg monthly charges\n",
    "- process:\n",
    "    1. plot distribution (histogram): df.hist()\n",
    "    2. establish hypotheses: \n",
    "        -null: no difference in means between variables\n",
    "        -alt: there is a difference (positive or negative) between the means, or sample and population means\n",
    "            - this is a two tailed test\n",
    "    3. alpha = 0.05 (unless otherwise stated)\n",
    "    4. Verify Assumptions: \n",
    "        - Normal Distribution, or at least 30 observations and \"kinda\" normal. The more observations you have, the less \"normal\" it needs to appear. (CLT)\n",
    "        - Independent samples\n",
    "        - Equal Variances (or set method argument to False when not)\n",
    "            - (Levenes test: stat, p_val = stats.levene(automatic_cars_mpg, manual_cars_mpg)\n",
    "    5. Compute test statistic and probability (t-statistic & p-value) using **scipy.stats.ttest_ind.**\n",
    "    6. Reject or fail to reject the null hypothesis (declare it). p < a and t > 0 are required to rejct H0"
   ]
  },
  {
   "cell_type": "markdown",
   "id": "fd0967b4",
   "metadata": {},
   "source": [
    "## 2.  Correlation testing (Pearson's R, and Spearman)\n",
    " - goal: establish correlation between **2 continuous variables**, testing for a **LINEAR relationship only**\n",
    "     - EG tenure and monthly charges\n",
    " - key formula: \n",
    "     - r, p_val = stats.pearsonr(x, y). x = df.x, y = df.y\n",
    " - Note: for non-linear reationships use Spearman test\n",
    " - Process\n",
    "    1. Setup hypotheses (null and alternate)\n",
    "    2. Calculate test statistic + p-value\n",
    "    3. Conclude"
   ]
  },
  {
   "cell_type": "markdown",
   "id": "30f31428",
   "metadata": {},
   "source": []
  },
  {
   "cell_type": "markdown",
   "id": "e1b0a013",
   "metadata": {},
   "source": [
    "## 2.  Compare group membership: Chi Squared\n",
    " - Goal: determine if one group is independent of another\n",
    " - observed is the crosstab of the two categorical relationships you are interested in.\n",
    " - input is two series\n",
    "\n",
    "    - Process:\n",
    "    1. state null: there is no relationship between categorical variables a and b/ a and b are independent of one another\n",
    "    2. run 'observed = pd.ctosstab(df.A, df.B)\n",
    "    3. Compare p to a, if p < a, reject the null hypothesis\n",
    " - Key formulas:\n",
    "     - observed = pd.crosstab(df.smoker, df.time) \n",
    "         - observed\n",
    "     - chi2, p, degf, expected = stats.chi2_contingency(observed)\n",
    "         - p"
   ]
  },
  {
   "cell_type": "code",
   "execution_count": 81,
   "id": "3df88bfb",
   "metadata": {},
   "outputs": [
    {
     "data": {
      "text/plain": [
       "0.7475074624530771"
      ]
     },
     "execution_count": 81,
     "metadata": {},
     "output_type": "execute_result"
    }
   ],
   "source": [
    "burger_wait_time_dist = stats.norm(40, 15)\n",
    "burger_wait_time_dist.cdf(50)"
   ]
  },
  {
   "cell_type": "code",
   "execution_count": 84,
   "id": "84e39881",
   "metadata": {},
   "outputs": [
    {
     "data": {
      "text/plain": [
       "0.1510752871020976"
      ]
     },
     "execution_count": 84,
     "metadata": {},
     "output_type": "execute_result"
    }
   ],
   "source": [
    "survey_success_rate = 0.10\n",
    "customers = 618\n",
    "survey_completion_dist = stats.binom(customers, survey_success_rate)\n",
    "survey_completion_dist.sf(69) #sf is exclusive"
   ]
  },
  {
   "cell_type": "code",
   "execution_count": null,
   "id": "da5e790a",
   "metadata": {},
   "outputs": [],
   "source": []
  }
 ],
 "metadata": {
  "kernelspec": {
   "display_name": "Python 3 (ipykernel)",
   "language": "python",
   "name": "python3"
  },
  "language_info": {
   "codemirror_mode": {
    "name": "ipython",
    "version": 3
   },
   "file_extension": ".py",
   "mimetype": "text/x-python",
   "name": "python",
   "nbconvert_exporter": "python",
   "pygments_lexer": "ipython3",
   "version": "3.9.7"
  }
 },
 "nbformat": 4,
 "nbformat_minor": 5
}
