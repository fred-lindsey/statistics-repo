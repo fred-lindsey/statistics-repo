{
 "cells": [
  {
   "cell_type": "markdown",
   "id": "a5bb4e0e",
   "metadata": {},
   "source": [
    "# 1. Key libraries/packages:"
   ]
  },
  {
   "cell_type": "code",
   "execution_count": 34,
   "id": "203a0e64",
   "metadata": {},
   "outputs": [],
   "source": [
    "import numpy as np\n",
    "import itertools\n",
    "import seaborn as sns\n",
    "import scipy\n",
    "import scipy.stats as stats\n",
    "import pandas as pd\n",
    "import matplotlib.pyplot as plt\n",
    "import env"
   ]
  },
  {
   "cell_type": "markdown",
   "id": "0765f916",
   "metadata": {},
   "source": [
    "## Generating Random numbers:"
   ]
  },
  {
   "cell_type": "code",
   "execution_count": 4,
   "id": "aef6f2c3",
   "metadata": {},
   "outputs": [
    {
     "data": {
      "text/plain": [
       "0.8359"
      ]
     },
     "execution_count": 4,
     "metadata": {},
     "output_type": "execute_result"
    }
   ],
   "source": [
    "# simulate the outcome of rolling 3 dice, 10k times\n",
    "ncols = ndice = 3\n",
    "nrows = nrolls = 10000\n",
    "\n",
    "rolls = np.random.choice([1, 2, 3, 4, 5, 6],\n",
    "                        ndice * nrolls).reshape(nrows, ncols)\n",
    "\n",
    "rolls\n",
    "\n",
    "#then we can manipulate the data...\n",
    "wins = rolls.sum(axis=1) > 7\n",
    "wins.mean()"
   ]
  },
  {
   "cell_type": "markdown",
   "id": "c167cf25",
   "metadata": {},
   "source": [
    "## Scipy Objects\n",
    "- value -> probability  \n",
    "   -- pmf: probability at a particular value of random variable (only for discrete distributions!)  \n",
    "    -- pdf: probability at a particular value of random variable (for continuous distributions)  \n",
    "   -- cdf: cumulative probablity for less than or equal to value of random variable   \n",
    "   -- sf:  probability for a random variable **greater than** certain value\n",
    "- probability -> value  \n",
    "   -- ppf: less than or equal to a point \n",
    "   -- isf: greater than a point  \n",
    "- rvs for random values "
   ]
  },
  {
   "cell_type": "markdown",
   "id": "8db6102b",
   "metadata": {},
   "source": [
    "# 2. Measuring Probability Distributions (high level view of our sample data):"
   ]
  },
  {
   "cell_type": "code",
   "execution_count": 20,
   "id": "f4f86b3a",
   "metadata": {},
   "outputs": [
    {
     "data": {
      "text/plain": [
       "array([[6, 3, 2, 5, 5, 5],\n",
       "       [2, 5, 1, 2, 2, 4],\n",
       "       [3, 1, 6, 6, 1, 1],\n",
       "       [4, 3, 4, 1, 4, 4],\n",
       "       [2, 6, 4, 5, 6, 2]])"
      ]
     },
     "execution_count": 20,
     "metadata": {},
     "output_type": "execute_result"
    }
   ],
   "source": [
    "#random discrete variable:\n",
    "die_distribution = stats.randint(1,7)\n",
    "die_distribution.rvs((5,6)) #rows, then columns"
   ]
  },
  {
   "cell_type": "markdown",
   "id": "4ecdc5bd",
   "metadata": {},
   "source": [
    "### Distribution: Descriptive methods"
   ]
  },
  {
   "cell_type": "code",
   "execution_count": 21,
   "id": "1fd0abd9",
   "metadata": {},
   "outputs": [
    {
     "data": {
      "text/plain": [
       "0.16666666666666666"
      ]
     },
     "execution_count": 21,
     "metadata": {},
     "output_type": "execute_result"
    }
   ],
   "source": [
    "#what's the probability we will roll a 3? (PMF/PDF)\n",
    "die_distribution.pmf(3) #likelihood of instantnaeous probability"
   ]
  },
  {
   "cell_type": "code",
   "execution_count": 22,
   "id": "0d49dedb",
   "metadata": {},
   "outputs": [
    {
     "data": {
      "text/plain": [
       "0.6666666666666667"
      ]
     },
     "execution_count": 22,
     "metadata": {},
     "output_type": "execute_result"
    }
   ],
   "source": [
    "#what's the proabability we will roll a 3 or higher? (SF)\n",
    "die_distribution.sf(2) #sf is exclusive, prob above given number"
   ]
  },
  {
   "cell_type": "code",
   "execution_count": 23,
   "id": "214625b4",
   "metadata": {},
   "outputs": [
    {
     "data": {
      "text/plain": [
       "2.0"
      ]
     },
     "execution_count": 23,
     "metadata": {},
     "output_type": "execute_result"
    }
   ],
   "source": [
    "#what's the value we will roll higher than, 0.666667 of time? (ISF)\n",
    "die_distribution.isf(0.666667)"
   ]
  },
  {
   "cell_type": "code",
   "execution_count": 24,
   "id": "59461d7f",
   "metadata": {},
   "outputs": [
    {
     "data": {
      "text/plain": [
       "0.5"
      ]
     },
     "execution_count": 24,
     "metadata": {},
     "output_type": "execute_result"
    }
   ],
   "source": [
    "#what's the probability we will roll a 3 or lower? (CDF)\n",
    "die_distribution.cdf(3) #cumulative probability at 3 or lower"
   ]
  },
  {
   "cell_type": "code",
   "execution_count": 25,
   "id": "fd2255ed",
   "metadata": {},
   "outputs": [
    {
     "data": {
      "text/plain": [
       "3.0"
      ]
     },
     "execution_count": 25,
     "metadata": {},
     "output_type": "execute_result"
    }
   ],
   "source": [
    "#given probability of 0.5, what is the number we will roll or lower? (PPF)\n",
    "die_distribution.ppf(0.5)"
   ]
  },
  {
   "cell_type": "markdown",
   "id": "c94ee280",
   "metadata": {},
   "source": [
    "### A. Uniform Distribution"
   ]
  },
  {
   "cell_type": "markdown",
   "id": "7ea9282b",
   "metadata": {},
   "source": [
    "#### The distribution where we have:\n",
    "- an equal likelihood of all outcomes (fair 6 sided dice)\n",
    "- need: number of outcomes (6), probability (1/n)"
   ]
  },
  {
   "cell_type": "code",
   "execution_count": 26,
   "id": "77133570",
   "metadata": {},
   "outputs": [
    {
     "data": {
      "text/plain": [
       "(array([   0., 1689., 1688., 1686., 1653., 1697., 1587.,    0.]),\n",
       " array([0, 1, 2, 3, 4, 5, 6, 7, 8]),\n",
       " <BarContainer object of 8 artists>)"
      ]
     },
     "execution_count": 26,
     "metadata": {},
     "output_type": "execute_result"
    },
    {
     "data": {
      "image/png": "[encoded data removed]",
      "text/plain": [
       "<Figure size 432x288 with 1 Axes>"
      ]
     },
     "metadata": {
      "needs_background": "light"
     },
     "output_type": "display_data"
    }
   ],
   "source": [
    "n = 10000\n",
    "x = die_distribution.rvs(n)\n",
    "\n",
    "plt.hist(x, bins=range(0,9), edgecolor='black')"
   ]
  },
  {
   "cell_type": "markdown",
   "id": "7f21a8ff",
   "metadata": {},
   "source": [
    "### B. Binomial Distribituion"
   ]
  },
  {
   "cell_type": "markdown",
   "id": "879d80de",
   "metadata": {},
   "source": [
    "### The distribution when we have:\n",
    "- a known number of trials\n",
    "- a binary outcome (success/failure) >> discrete variable\n",
    "- need: number of trials, p(success)"
   ]
  },
  {
   "cell_type": "code",
   "execution_count": 31,
   "id": "082c29a6",
   "metadata": {},
   "outputs": [
    {
     "data": {
      "text/plain": [
       "0.10572812269266013"
      ]
     },
     "execution_count": 31,
     "metadata": {},
     "output_type": "execute_result"
    }
   ],
   "source": [
    "# formula:\n",
    "n_trials = 30\n",
    "p_success = 0.25\n",
    "stats.binom(n_trials, p_success)\n",
    "# probability of success in >10 trials?\n",
    "stats.binom(n_trials, p_success).sf(10)"
   ]
  },
  {
   "cell_type": "code",
   "execution_count": 32,
   "id": "98788a9e",
   "metadata": {},
   "outputs": [
    {
     "ename": "AttributeError",
     "evalue": "'rv_frozen' object has no attribute 'hist'",
     "output_type": "error",
     "traceback": [
      "\u001b[0;31m---------------------------------------------------------------------------\u001b[0m",
      "\u001b[0;31mAttributeError\u001b[0m                            Traceback (most recent call last)",
      "\u001b[0;32m/var/folders/3n/86q7c8d16r51w8vg4g5kwq280000gn/T/ipykernel_17740/838726136.py\u001b[0m in \u001b[0;36m<module>\u001b[0;34m\u001b[0m\n\u001b[0;32m----> 1\u001b[0;31m \u001b[0mstats\u001b[0m\u001b[0;34m.\u001b[0m\u001b[0mbinom\u001b[0m\u001b[0;34m(\u001b[0m\u001b[0mn_trials\u001b[0m\u001b[0;34m,\u001b[0m \u001b[0mp_success\u001b[0m\u001b[0;34m)\u001b[0m\u001b[0;34m.\u001b[0m\u001b[0mhist\u001b[0m\u001b[0;34m(\u001b[0m\u001b[0;34m)\u001b[0m\u001b[0;34m\u001b[0m\u001b[0;34m\u001b[0m\u001b[0m\n\u001b[0m",
      "\u001b[0;31mAttributeError\u001b[0m: 'rv_frozen' object has no attribute 'hist'"
     ]
    }
   ],
   "source": [
    "stats.binom(n_trials, p_success).hist()"
   ]
  },
  {
   "cell_type": "code",
   "execution_count": null,
   "id": "c784de17",
   "metadata": {},
   "outputs": [],
   "source": []
  },
  {
   "cell_type": "code",
   "execution_count": null,
   "id": "b60719a1",
   "metadata": {},
   "outputs": [],
   "source": []
  },
  {
   "cell_type": "code",
   "execution_count": null,
   "id": "19848e9f",
   "metadata": {},
   "outputs": [],
   "source": []
  },
  {
   "cell_type": "markdown",
   "id": "8ed03f77",
   "metadata": {},
   "source": [
    "# Testing for a Relationship between variables:"
   ]
  },
  {
   "cell_type": "markdown",
   "id": "de31e311",
   "metadata": {},
   "source": [
    "### Which type of Statistical Test do we use?\n",
    "\n",
    "The two Variables are:\n",
    "\n",
    "- **Continuous + Categorical:** **t-test**\n",
    "    - one sample\n",
    "    - one tailed: measuring directionality (divide p in half)\n",
    "    - two tailed: measuring difference (p is the correct value)\n",
    "- **Continuous + Continuous:** **pearson-r**\n",
    "- **Categorical + Categorical:** **chi2**\n",
    "    \n"
   ]
  },
  {
   "cell_type": "markdown",
   "id": "373b819d",
   "metadata": {},
   "source": [
    "## Measures/Tests of Distribution\n",
    "- central limit theorem\n",
    "- t-test\n",
    "    - one sample\n",
    "        - one tailed: measuring directionality (divide p in half)\n",
    "            >>\n",
    "        - two tailed: measuring difference (p is the correct value)\n",
    "            >>\n",
    "    - two sample"
   ]
  },
  {
   "cell_type": "markdown",
   "id": "e31e396c",
   "metadata": {},
   "source": [
    "## Measures of Correlation\n",
    "- Pearson r-test\n",
    "    - measures correlation between two variables, in units of \"r\". But the measure is unitless, inherently\n",
    "    - only tests Linear relationships\n",
    "        >> **r, p = stats.pearson(x,y)**\n",
    "            - where r is correlation, p is probability that relationship is due to chance\n",
    "            - conceptually: the confidence interval above and below the line of best fit. +/- implies relationship\n",
    "    "
   ]
  }
 ],
 "metadata": {
  "kernelspec": {
   "display_name": "Python 3 (ipykernel)",
   "language": "python",
   "name": "python3"
  },
  "language_info": {
   "codemirror_mode": {
    "name": "ipython",
    "version": 3
   },
   "file_extension": ".py",
   "mimetype": "text/x-python",
   "name": "python",
   "nbconvert_exporter": "python",
   "pygments_lexer": "ipython3",
   "version": "3.9.7"
  }
 },
 "nbformat": 4,
 "nbformat_minor": 5
}
