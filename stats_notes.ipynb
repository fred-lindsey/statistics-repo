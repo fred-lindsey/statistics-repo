{
 "cells": [
  {
   "cell_type": "markdown",
   "id": "c27fbc17",
   "metadata": {},
   "source": [
    "## Measures/Tests of Distribution\n",
    "- central limit theorem\n",
    "- t-test\n",
    "    - one sample\n",
    "        - one tailed: measuring directionality (divide p in half)\n",
    "            >>\n",
    "        - two tailed: measuring difference (p is the correct value)\n",
    "            >>\n",
    "    - two sample"
   ]
  },
  {
   "cell_type": "markdown",
   "id": "8d9d4732",
   "metadata": {},
   "source": [
    "## Measures of Correlation\n",
    "- Pearson r-test\n",
    "    - measures correlation between two variables, in units of \"r\". But the measure is unitless, inherently\n",
    "    - only tests Linear relationships\n",
    "        >> **r, p = stats.pearson(x,y)**\n",
    "            - where r is correlation, p is probability that relationship is due to chance\n",
    "            - conceptually: the confidence interval above and below the line of best fit. +/- implies relationship\n",
    "    "
   ]
  }
 ],
 "metadata": {
  "kernelspec": {
   "display_name": "Python 3 (ipykernel)",
   "language": "python",
   "name": "python3"
  },
  "language_info": {
   "codemirror_mode": {
    "name": "ipython",
    "version": 3
   },
   "file_extension": ".py",
   "mimetype": "text/x-python",
   "name": "python",
   "nbconvert_exporter": "python",
   "pygments_lexer": "ipython3",
   "version": "3.9.7"
  }
 },
 "nbformat": 4,
 "nbformat_minor": 5
}
