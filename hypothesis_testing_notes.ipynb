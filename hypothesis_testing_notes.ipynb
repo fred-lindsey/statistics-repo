{
 "cells": [
  {
   "cell_type": "markdown",
   "id": "8c8cea4e",
   "metadata": {},
   "source": [
    "### Population >> Subset >> Sample"
   ]
  },
  {
   "cell_type": "markdown",
   "id": "34c0518c",
   "metadata": {},
   "source": [
    "Descriptive Stats: \n",
    "\n",
    "    - measures of central tendency: mean, median, mode\n",
    "    \n",
    "    - measure of variability: range, variance, standard deviation\n",
    "    \n",
    "Inferential Stats:\n",
    "\n",
    "    - Hypothesis testing\n",
    "    \n",
    "        1. make inference from the sample and generalize them to the population\n",
    "        \n",
    "        2. Compares, tests, and predicts future outcomes\n",
    "        \n",
    "        3. Final result is the probability scores\n",
    "        \n",
    "        4. Draws conclusions about the population that is beyond the data avaialbe (extrapolation)"
   ]
  },
  {
   "cell_type": "markdown",
   "id": "3bc08f05",
   "metadata": {},
   "source": [
    "\" DATA + ASSUMPTIONS = PREDICTION\""
   ]
  },
  {
   "cell_type": "markdown",
   "id": "fb40d49d",
   "metadata": {},
   "source": [
    "### VOCAB\n",
    "- Null Hypothesis: H0 : \"the coin is fair\"\n",
    "- Alternative hypothesis: HA : \"the coin is unfair\"\n",
    "- Significance level:\n",
    "    - p value: the probability of getting a result as, or more, extreme than our own. THIS MEANS SEEING EXTREME RESULTS\n",
    "        -measure of extremeness\n",
    "    - p<= \"some level\" means that p is insignificant\n",
    "    - p>= \"some value\" means that p is significant\n",
    "- FAIL to REJECT the null hypotheses\n",
    "    - absence of evidence is not evidence of absence\n",
    "    - \"not guilty != innocent\"\n",
    "- REJECT HO\n",
    "    - alternative hypothesis is favored on the basis of probability\n",
    "    - more likely than not\n",
    "- Test statistic:\n",
    "    - strength of test result, direction, and other details to the test used\n",
    "- Errors in Hypothesis Testing\n",
    "    - Type 1 error: False Positive \n",
    "    - Type 2 error: False Negative\n",
    "- statistical power:\n",
    "    - probability that our model/prediciton will reject a false null hypothesis"
   ]
  },
  {
   "cell_type": "markdown",
   "id": "71b9d649",
   "metadata": {},
   "source": [
    "## Hypothesis testing workflow\n",
    "1. choose the right type of test for your data/question\n",
    "    - narrow down broad questions to a single, testable, comparison\n",
    "    - given \"are their bills too high?\"\n",
    "        -usable \" do churners spend more monthly than non-churners\"\n",
    "       - be specific about the population, and the assumptions\n",
    "       - check assumptions:\n",
    "       1. sample size?\n",
    "       2. independent observations\n",
    "       \n",
    "2. set a desired confidence level and form a hypothesis\n",
    "    - lenient: a = 0.10 (vaguely inform)\n",
    "    - typical: a = 0.05 (typical)\n",
    "    - strict: a = 0.01 (medical/military)\n",
    "        - alpha value is the acceptable liklihood of a type 1 error (FP)\n",
    "        - A p-value is a statistical measurement used to validate a hypothesis against observed data. A p-value measures the probability of obtaining the observed results, assuming that the null hypothesis is true. The lower the p-value, the greater the statistical significance of the observed difference. It's the confidence level of observed difference. It's the likelihood that the null hypothesis (not desired) is true, and the unlikelihood of the alternate hypothesis (desired result)\n",
    "3. "
   ]
  },
  {
   "cell_type": "code",
   "execution_count": null,
   "id": "2892b0b4",
   "metadata": {},
   "outputs": [],
   "source": [
    "## Calculating t and p directly from mean and std dev\n",
    "\n",
    "scipy.stats.ttest_ind_from_stats(mean, std, nobs1, equal_var = True)"
   ]
  }
 ],
 "metadata": {
  "kernelspec": {
   "display_name": "Python 3 (ipykernel)",
   "language": "python",
   "name": "python3"
  },
  "language_info": {
   "codemirror_mode": {
    "name": "ipython",
    "version": 3
   },
   "file_extension": ".py",
   "mimetype": "text/x-python",
   "name": "python",
   "nbconvert_exporter": "python",
   "pygments_lexer": "ipython3",
   "version": "3.9.7"
  }
 },
 "nbformat": 4,
 "nbformat_minor": 5
}
