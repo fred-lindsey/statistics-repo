{
 "cells": [
  {
   "cell_type": "code",
   "execution_count": 1,
   "id": "2fd7bfab",
   "metadata": {},
   "outputs": [],
   "source": [
    "%matplotlib inline\n",
    "import numpy as np\n",
    "import pandas as pd\n",
    "\n",
    "import viz # curriculum example visualizations"
   ]
  },
  {
   "cell_type": "markdown",
   "id": "25e8e855",
   "metadata": {},
   "source": [
    "## Exercises"
   ]
  },
  {
   "cell_type": "markdown",
   "id": "dcf28dc7",
   "metadata": {},
   "source": [
    "1. How likely is it that you roll doubles when rolling two dice?"
   ]
  },
  {
   "cell_type": "code",
   "execution_count": 2,
   "id": "3a6844bc",
   "metadata": {},
   "outputs": [
    {
     "data": {
      "text/plain": [
       "array([[1, 6],\n",
       "       [3, 3],\n",
       "       [2, 4],\n",
       "       ...,\n",
       "       [4, 4],\n",
       "       [3, 2],\n",
       "       [4, 5]])"
      ]
     },
     "execution_count": 2,
     "metadata": {},
     "output_type": "execute_result"
    }
   ],
   "source": [
    "n_rolls = nrows = 100_000\n",
    "n_dice = ncols = 2\n",
    "\n",
    "rolls = np.random.choice([1,2,3,4,5,6], \n",
    "                         n_rolls * n_dice).reshape(nrows, ncols)\n",
    "rolls"
   ]
  },
  {
   "cell_type": "code",
   "execution_count": 3,
   "id": "50c6c7ce",
   "metadata": {},
   "outputs": [
    {
     "data": {
      "text/html": [
       "<div><div id=626cef63-ff48-444a-8541-0f8d4e68b3b3 style=\"display:none; background-color:#9D6CFF; color:white; width:200px; height:30px; padding-left:5px; border-radius:4px; flex-direction:row; justify-content:space-around; align-items:center;\" onmouseover=\"this.style.backgroundColor='#BA9BF8'\" onmouseout=\"this.style.backgroundColor='#9D6CFF'\" onclick=\"window.commands?.execute('create-mitosheet-from-dataframe-output');\">See Full Dataframe in Mito</div> <script> if (window.commands?.hasCommand('create-mitosheet-from-dataframe-output')) document.getElementById('626cef63-ff48-444a-8541-0f8d4e68b3b3').style.display = 'flex' </script> <table border=\"1\" class=\"dataframe\">\n",
       "  <thead>\n",
       "    <tr style=\"text-align: right;\">\n",
       "      <th></th>\n",
       "      <th>0</th>\n",
       "      <th>1</th>\n",
       "    </tr>\n",
       "  </thead>\n",
       "  <tbody>\n",
       "    <tr>\n",
       "      <th>0</th>\n",
       "      <td>1</td>\n",
       "      <td>6</td>\n",
       "    </tr>\n",
       "    <tr>\n",
       "      <th>1</th>\n",
       "      <td>3</td>\n",
       "      <td>3</td>\n",
       "    </tr>\n",
       "    <tr>\n",
       "      <th>2</th>\n",
       "      <td>2</td>\n",
       "      <td>4</td>\n",
       "    </tr>\n",
       "    <tr>\n",
       "      <th>3</th>\n",
       "      <td>6</td>\n",
       "      <td>2</td>\n",
       "    </tr>\n",
       "    <tr>\n",
       "      <th>4</th>\n",
       "      <td>5</td>\n",
       "      <td>3</td>\n",
       "    </tr>\n",
       "    <tr>\n",
       "      <th>...</th>\n",
       "      <td>...</td>\n",
       "      <td>...</td>\n",
       "    </tr>\n",
       "    <tr>\n",
       "      <th>99995</th>\n",
       "      <td>1</td>\n",
       "      <td>5</td>\n",
       "    </tr>\n",
       "    <tr>\n",
       "      <th>99996</th>\n",
       "      <td>3</td>\n",
       "      <td>6</td>\n",
       "    </tr>\n",
       "    <tr>\n",
       "      <th>99997</th>\n",
       "      <td>4</td>\n",
       "      <td>4</td>\n",
       "    </tr>\n",
       "    <tr>\n",
       "      <th>99998</th>\n",
       "      <td>3</td>\n",
       "      <td>2</td>\n",
       "    </tr>\n",
       "    <tr>\n",
       "      <th>99999</th>\n",
       "      <td>4</td>\n",
       "      <td>5</td>\n",
       "    </tr>\n",
       "  </tbody>\n",
       "</table></div>"
      ],
      "text/plain": [
       "       0  1\n",
       "0      1  6\n",
       "1      3  3\n",
       "2      2  4\n",
       "3      6  2\n",
       "4      5  3\n",
       "...   .. ..\n",
       "99995  1  5\n",
       "99996  3  6\n",
       "99997  4  4\n",
       "99998  3  2\n",
       "99999  4  5\n",
       "\n",
       "[100000 rows x 2 columns]"
      ]
     },
     "execution_count": 3,
     "metadata": {},
     "output_type": "execute_result"
    }
   ],
   "source": [
    "rolls = pd.DataFrame(rolls)\n",
    "rolls"
   ]
  },
  {
   "cell_type": "code",
   "execution_count": 4,
   "id": "25b29c90",
   "metadata": {},
   "outputs": [
    {
     "data": {
      "text/plain": [
       "0.16773"
      ]
     },
     "execution_count": 4,
     "metadata": {},
     "output_type": "execute_result"
    }
   ],
   "source": [
    "rolls[\"is_doubles\"] = rolls.apply(lambda row: row[0] == row[1]in row.values, axis=1)\n",
    "rolls.is_doubles.mean()"
   ]
  },
  {
   "cell_type": "markdown",
   "id": "9bee743a",
   "metadata": {},
   "source": [
    "2. If you flip 8 coins, what is the probability of getting exactly 3 heads? What is the probability of getting more than 3 heads?"
   ]
  },
  {
   "cell_type": "code",
   "execution_count": 5,
   "id": "d1aa0fb0",
   "metadata": {},
   "outputs": [
    {
     "data": {
      "text/html": [
       "<div><div id=557dd487-86a6-4493-91c2-39c2e33e7910 style=\"display:none; background-color:#9D6CFF; color:white; width:200px; height:30px; padding-left:5px; border-radius:4px; flex-direction:row; justify-content:space-around; align-items:center;\" onmouseover=\"this.style.backgroundColor='#BA9BF8'\" onmouseout=\"this.style.backgroundColor='#9D6CFF'\" onclick=\"window.commands?.execute('create-mitosheet-from-dataframe-output');\">See Full Dataframe in Mito</div> <script> if (window.commands?.hasCommand('create-mitosheet-from-dataframe-output')) document.getElementById('557dd487-86a6-4493-91c2-39c2e33e7910').style.display = 'flex' </script> <table border=\"1\" class=\"dataframe\">\n",
       "  <thead>\n",
       "    <tr style=\"text-align: right;\">\n",
       "      <th></th>\n",
       "      <th>0</th>\n",
       "      <th>1</th>\n",
       "      <th>2</th>\n",
       "      <th>3</th>\n",
       "      <th>4</th>\n",
       "      <th>5</th>\n",
       "      <th>6</th>\n",
       "      <th>7</th>\n",
       "    </tr>\n",
       "  </thead>\n",
       "  <tbody>\n",
       "    <tr>\n",
       "      <th>0</th>\n",
       "      <td>1</td>\n",
       "      <td>1</td>\n",
       "      <td>1</td>\n",
       "      <td>0</td>\n",
       "      <td>0</td>\n",
       "      <td>0</td>\n",
       "      <td>1</td>\n",
       "      <td>1</td>\n",
       "    </tr>\n",
       "    <tr>\n",
       "      <th>1</th>\n",
       "      <td>1</td>\n",
       "      <td>1</td>\n",
       "      <td>0</td>\n",
       "      <td>0</td>\n",
       "      <td>0</td>\n",
       "      <td>1</td>\n",
       "      <td>0</td>\n",
       "      <td>1</td>\n",
       "    </tr>\n",
       "    <tr>\n",
       "      <th>2</th>\n",
       "      <td>1</td>\n",
       "      <td>0</td>\n",
       "      <td>0</td>\n",
       "      <td>0</td>\n",
       "      <td>0</td>\n",
       "      <td>0</td>\n",
       "      <td>1</td>\n",
       "      <td>1</td>\n",
       "    </tr>\n",
       "    <tr>\n",
       "      <th>3</th>\n",
       "      <td>0</td>\n",
       "      <td>1</td>\n",
       "      <td>1</td>\n",
       "      <td>0</td>\n",
       "      <td>1</td>\n",
       "      <td>1</td>\n",
       "      <td>0</td>\n",
       "      <td>0</td>\n",
       "    </tr>\n",
       "    <tr>\n",
       "      <th>4</th>\n",
       "      <td>1</td>\n",
       "      <td>1</td>\n",
       "      <td>0</td>\n",
       "      <td>0</td>\n",
       "      <td>1</td>\n",
       "      <td>1</td>\n",
       "      <td>1</td>\n",
       "      <td>0</td>\n",
       "    </tr>\n",
       "    <tr>\n",
       "      <th>...</th>\n",
       "      <td>...</td>\n",
       "      <td>...</td>\n",
       "      <td>...</td>\n",
       "      <td>...</td>\n",
       "      <td>...</td>\n",
       "      <td>...</td>\n",
       "      <td>...</td>\n",
       "      <td>...</td>\n",
       "    </tr>\n",
       "    <tr>\n",
       "      <th>9999995</th>\n",
       "      <td>0</td>\n",
       "      <td>0</td>\n",
       "      <td>0</td>\n",
       "      <td>1</td>\n",
       "      <td>1</td>\n",
       "      <td>1</td>\n",
       "      <td>0</td>\n",
       "      <td>1</td>\n",
       "    </tr>\n",
       "    <tr>\n",
       "      <th>9999996</th>\n",
       "      <td>1</td>\n",
       "      <td>1</td>\n",
       "      <td>0</td>\n",
       "      <td>0</td>\n",
       "      <td>1</td>\n",
       "      <td>0</td>\n",
       "      <td>1</td>\n",
       "      <td>1</td>\n",
       "    </tr>\n",
       "    <tr>\n",
       "      <th>9999997</th>\n",
       "      <td>0</td>\n",
       "      <td>1</td>\n",
       "      <td>1</td>\n",
       "      <td>1</td>\n",
       "      <td>1</td>\n",
       "      <td>0</td>\n",
       "      <td>1</td>\n",
       "      <td>1</td>\n",
       "    </tr>\n",
       "    <tr>\n",
       "      <th>9999998</th>\n",
       "      <td>1</td>\n",
       "      <td>0</td>\n",
       "      <td>0</td>\n",
       "      <td>0</td>\n",
       "      <td>0</td>\n",
       "      <td>0</td>\n",
       "      <td>1</td>\n",
       "      <td>0</td>\n",
       "    </tr>\n",
       "    <tr>\n",
       "      <th>9999999</th>\n",
       "      <td>1</td>\n",
       "      <td>0</td>\n",
       "      <td>0</td>\n",
       "      <td>0</td>\n",
       "      <td>0</td>\n",
       "      <td>1</td>\n",
       "      <td>0</td>\n",
       "      <td>0</td>\n",
       "    </tr>\n",
       "  </tbody>\n",
       "</table></div>"
      ],
      "text/plain": [
       "         0  1  2  3  4  5  6  7\n",
       "0        1  1  1  0  0  0  1  1\n",
       "1        1  1  0  0  0  1  0  1\n",
       "2        1  0  0  0  0  0  1  1\n",
       "3        0  1  1  0  1  1  0  0\n",
       "4        1  1  0  0  1  1  1  0\n",
       "...     .. .. .. .. .. .. .. ..\n",
       "9999995  0  0  0  1  1  1  0  1\n",
       "9999996  1  1  0  0  1  0  1  1\n",
       "9999997  0  1  1  1  1  0  1  1\n",
       "9999998  1  0  0  0  0  0  1  0\n",
       "9999999  1  0  0  0  0  1  0  0\n",
       "\n",
       "[10000000 rows x 8 columns]"
      ]
     },
     "execution_count": 5,
     "metadata": {},
     "output_type": "execute_result"
    }
   ],
   "source": [
    "n_coins = ncols = 8\n",
    "n_flips = nrows = 10**7\n",
    "flips = np.random.choice([0, 1], n_coins*n_flips).reshape(nrows,ncols) #x, then y \n",
    "flips\n",
    "flips = pd.DataFrame(flips)\n",
    "flips"
   ]
  },
  {
   "cell_type": "code",
   "execution_count": 6,
   "id": "260ccb95",
   "metadata": {},
   "outputs": [
    {
     "data": {
      "text/plain": [
       "0          5\n",
       "1          4\n",
       "2          3\n",
       "3          4\n",
       "4          5\n",
       "          ..\n",
       "9999995    4\n",
       "9999996    5\n",
       "9999997    6\n",
       "9999998    2\n",
       "9999999    2\n",
       "Length: 10000000, dtype: int64"
      ]
     },
     "execution_count": 6,
     "metadata": {},
     "output_type": "execute_result"
    }
   ],
   "source": [
    "heads_per_row = flips.sum(axis=1)\n",
    "heads_per_row\n",
    "#(flips == 'Heads').sum(axis=1)\n",
    "#(flips.n_heads == 3).mean()"
   ]
  },
  {
   "cell_type": "code",
   "execution_count": 7,
   "id": "b7d39d02",
   "metadata": {},
   "outputs": [],
   "source": [
    "three_heads_five_tails = heads_per_row == 3"
   ]
  },
  {
   "cell_type": "code",
   "execution_count": 8,
   "id": "c5544f3d",
   "metadata": {},
   "outputs": [
    {
     "data": {
      "text/plain": [
       "0.2186457"
      ]
     },
     "execution_count": 8,
     "metadata": {},
     "output_type": "execute_result"
    }
   ],
   "source": [
    "three_heads_five_tails.mean()"
   ]
  },
  {
   "cell_type": "code",
   "execution_count": 9,
   "id": "7661d29e",
   "metadata": {},
   "outputs": [],
   "source": [
    "more_than_three_heads = heads_per_row >=4"
   ]
  },
  {
   "cell_type": "code",
   "execution_count": 10,
   "id": "d5ccf987",
   "metadata": {},
   "outputs": [
    {
     "data": {
      "text/plain": [
       "0.6367863"
      ]
     },
     "execution_count": 10,
     "metadata": {},
     "output_type": "execute_result"
    }
   ],
   "source": [
    "more_than_three_heads.mean()"
   ]
  },
  {
   "cell_type": "markdown",
   "id": "06c97321",
   "metadata": {},
   "source": [
    "3. There are approximately 3 web development cohorts for every 1 data science cohort at Codeup. Assuming that Codeup randomly selects an alumni to put on a billboard, what are the odds that the two billboards I drive past both have data science students on them?"
   ]
  },
  {
   "cell_type": "code",
   "execution_count": 11,
   "id": "995a279d",
   "metadata": {},
   "outputs": [
    {
     "data": {
      "text/html": [
       "<div><div id=76b30cbc-f650-47f5-8cde-45d532e31a14 style=\"display:none; background-color:#9D6CFF; color:white; width:200px; height:30px; padding-left:5px; border-radius:4px; flex-direction:row; justify-content:space-around; align-items:center;\" onmouseover=\"this.style.backgroundColor='#BA9BF8'\" onmouseout=\"this.style.backgroundColor='#9D6CFF'\" onclick=\"window.commands?.execute('create-mitosheet-from-dataframe-output');\">See Full Dataframe in Mito</div> <script> if (window.commands?.hasCommand('create-mitosheet-from-dataframe-output')) document.getElementById('76b30cbc-f650-47f5-8cde-45d532e31a14').style.display = 'flex' </script> <table border=\"1\" class=\"dataframe\">\n",
       "  <thead>\n",
       "    <tr style=\"text-align: right;\">\n",
       "      <th></th>\n",
       "      <th>0</th>\n",
       "      <th>1</th>\n",
       "    </tr>\n",
       "  </thead>\n",
       "  <tbody>\n",
       "    <tr>\n",
       "      <th>0</th>\n",
       "      <td>0</td>\n",
       "      <td>0</td>\n",
       "    </tr>\n",
       "    <tr>\n",
       "      <th>1</th>\n",
       "      <td>1</td>\n",
       "      <td>0</td>\n",
       "    </tr>\n",
       "    <tr>\n",
       "      <th>2</th>\n",
       "      <td>0</td>\n",
       "      <td>0</td>\n",
       "    </tr>\n",
       "    <tr>\n",
       "      <th>3</th>\n",
       "      <td>0</td>\n",
       "      <td>0</td>\n",
       "    </tr>\n",
       "    <tr>\n",
       "      <th>4</th>\n",
       "      <td>1</td>\n",
       "      <td>1</td>\n",
       "    </tr>\n",
       "    <tr>\n",
       "      <th>...</th>\n",
       "      <td>...</td>\n",
       "      <td>...</td>\n",
       "    </tr>\n",
       "    <tr>\n",
       "      <th>999995</th>\n",
       "      <td>0</td>\n",
       "      <td>0</td>\n",
       "    </tr>\n",
       "    <tr>\n",
       "      <th>999996</th>\n",
       "      <td>0</td>\n",
       "      <td>0</td>\n",
       "    </tr>\n",
       "    <tr>\n",
       "      <th>999997</th>\n",
       "      <td>1</td>\n",
       "      <td>0</td>\n",
       "    </tr>\n",
       "    <tr>\n",
       "      <th>999998</th>\n",
       "      <td>1</td>\n",
       "      <td>0</td>\n",
       "    </tr>\n",
       "    <tr>\n",
       "      <th>999999</th>\n",
       "      <td>0</td>\n",
       "      <td>0</td>\n",
       "    </tr>\n",
       "  </tbody>\n",
       "</table></div>"
      ],
      "text/plain": [
       "        0  1\n",
       "0       0  0\n",
       "1       1  0\n",
       "2       0  0\n",
       "3       0  0\n",
       "4       1  1\n",
       "...    .. ..\n",
       "999995  0  0\n",
       "999996  0  0\n",
       "999997  1  0\n",
       "999998  1  0\n",
       "999999  0  0\n",
       "\n",
       "[1000000 rows x 2 columns]"
      ]
     },
     "execution_count": 11,
     "metadata": {},
     "output_type": "execute_result"
    }
   ],
   "source": [
    "billboard_selections = nrows = 10**6\n",
    "billboards = ncols = 2\n",
    "\n",
    "student_selected = np.random.choice([1,0,0,0], \n",
    "                billboards * billboard_selections).reshape(nrows,ncols)\n",
    "\n",
    "student_selected = pd.DataFrame(student_selected)\n",
    "student_selected"
   ]
  },
  {
   "cell_type": "code",
   "execution_count": 12,
   "id": "a7001f29",
   "metadata": {},
   "outputs": [
    {
     "data": {
      "text/plain": [
       "0.062445"
      ]
     },
     "execution_count": 12,
     "metadata": {},
     "output_type": "execute_result"
    }
   ],
   "source": [
    "ds_student_selected_twice = (student_selected.sum(axis=1) ==2).mean()\n",
    "ds_student_selected_twice"
   ]
  },
  {
   "cell_type": "markdown",
   "id": "6fccfd63",
   "metadata": {},
   "source": [
    "4. Codeup students buy, on average, 3 poptart packages with a standard deviation of 1.5 a day from the snack vending machine. If on monday the machine is restocked with 17 poptart packages, how likely is it that I will be able to buy some poptarts on Friday afternoon? (Remember, if you have mean and standard deviation, use the np.random.normal)"
   ]
  },
  {
   "cell_type": "code",
   "execution_count": 13,
   "id": "54ac8f45",
   "metadata": {},
   "outputs": [
    {
     "data": {
      "text/plain": [
       "0.684"
      ]
     },
     "execution_count": 13,
     "metadata": {},
     "output_type": "execute_result"
    }
   ],
   "source": [
    "days = ncols = 5\n",
    "rows = nrows = 10*25\n",
    "\n",
    "pop_tart_dist = pd.DataFrame(np.random.normal(3, 1.5, size = (nrows, ncols)).round())\n",
    "pop_tart_dist = pop_tart_dist.abs()\n",
    "pop_tart_dist\n",
    "\n",
    "p_pop_tart_remains = pop_tart_dist.apply(lambda x: x.sum() <=16, axis = 1)\n",
    "p_pop_tart_remains.mean()\n"
   ]
  },
  {
   "cell_type": "markdown",
   "id": "a8c1b820",
   "metadata": {},
   "source": [
    "5. Compare Heights\n",
    "\n",
    "- Men have an average height of 178 cm and standard deviation of 8cm.\n",
    "\n",
    "- Women have a mean of 170, sd = 6cm.\n",
    "\n",
    "Since you have means and standard deviations, you can use np.random.normal to generate observations.\n",
    "\n",
    "If a man and woman are chosen at random, what is the likelihood the woman is taller than the man?"
   ]
  },
  {
   "cell_type": "code",
   "execution_count": 14,
   "id": "17b3c568",
   "metadata": {},
   "outputs": [
    {
     "data": {
      "text/plain": [
       "0    0.21182\n",
       "dtype: float64"
      ]
     },
     "execution_count": 14,
     "metadata": {},
     "output_type": "execute_result"
    }
   ],
   "source": [
    "nrows = 10 ** 5\n",
    "\n",
    "random_man_ht = np.random.normal(178, 8, (nrows))\n",
    "random_man_ht =  pd.DataFrame(random_man_ht)\n",
    "\n",
    "\n",
    "random_woman_ht = np.random.normal(170, 6, (nrows))\n",
    "random_woman_ht = pd.DataFrame(random_woman_ht)\n",
    "\n",
    "\n",
    "p_ladies_taller = ((random_woman_ht - random_man_ht) > 0).mean()\n",
    "p_ladies_taller"
   ]
  },
  {
   "cell_type": "markdown",
   "id": "49766922",
   "metadata": {},
   "source": [
    "6. When installing anaconda on a student's computer, there's a 1 in 250 chance that the download is corrupted and the installation fails. \n",
    "\n",
    "A. What are the odds that after having 50 students download anaconda, no one has an installation issue?"
   ]
  },
  {
   "cell_type": "code",
   "execution_count": 19,
   "id": "706df93d",
   "metadata": {},
   "outputs": [
    {
     "data": {
      "text/plain": [
       "0.82"
      ]
     },
     "execution_count": 19,
     "metadata": {},
     "output_type": "execute_result"
    }
   ],
   "source": [
    "students = ncols = 50\n",
    "trials = nrows = 10*5\n",
    "\n",
    "installs = np.random.choice([0, 1], size = (nrows, ncols), p = [1/250, 249/250])\n",
    "installs = pd.DataFrame(installs)\n",
    "installs[\"fails\"] = installs.sum(axis=1)\n",
    "\n",
    "none_in_fifty_fails = (installs.fails == 50).mean()\n",
    "none_in_fifty_fails\n",
    "\n",
    "# none_in_fifty_fails = installs.sum(axis=1) == 0\n"
   ]
  },
  {
   "cell_type": "markdown",
   "id": "a6ce8ed7",
   "metadata": {},
   "source": [
    "B. 100 students?"
   ]
  },
  {
   "cell_type": "code",
   "execution_count": 20,
   "id": "5a78892e",
   "metadata": {},
   "outputs": [
    {
     "data": {
      "text/plain": [
       "0.64"
      ]
     },
     "execution_count": 20,
     "metadata": {},
     "output_type": "execute_result"
    }
   ],
   "source": [
    "students = ncols = 100\n",
    "trials = nrows = 10*5\n",
    "\n",
    "installs = np.random.choice([0, 1], size = (nrows, ncols), p = [1/250, 249/250])\n",
    "installs = pd.DataFrame(installs)\n",
    "installs[\"fails\"] = installs.sum(axis=1)\n",
    "\n",
    "none_in_100_fails = (installs.fails == 100).mean()\n",
    "none_in_100_fails"
   ]
  },
  {
   "cell_type": "markdown",
   "id": "382f82df",
   "metadata": {},
   "source": [
    "C. What is the probability that we observe an installation issue within the first 150 students that download anaconda?"
   ]
  },
  {
   "cell_type": "code",
   "execution_count": 21,
   "id": "bf701f39",
   "metadata": {},
   "outputs": [
    {
     "name": "stdout",
     "output_type": "stream",
     "text": [
      "0.38\n"
     ]
    }
   ],
   "source": [
    "students = ncols = 150\n",
    "trials = nrows = 10*5\n",
    "\n",
    "installs = np.random.choice([0, 1], size = (nrows, ncols), p = [1/250, 249/250])\n",
    "installs = pd.DataFrame(installs)\n",
    "installs[\"fails\"] = installs.sum(axis=1)\n",
    "\n",
    "none_in_150_fails = (installs.fails == 150).mean()\n",
    "print( 1 - (none_in_150_fails))"
   ]
  },
  {
   "cell_type": "markdown",
   "id": "8e98cce3",
   "metadata": {},
   "source": [
    "D. How likely is it that 450 students all download anaconda without an issue?"
   ]
  },
  {
   "cell_type": "code",
   "execution_count": 22,
   "id": "be5f2f30",
   "metadata": {},
   "outputs": [
    {
     "data": {
      "text/plain": [
       "0.14"
      ]
     },
     "execution_count": 22,
     "metadata": {},
     "output_type": "execute_result"
    }
   ],
   "source": [
    "students = ncols = 450\n",
    "trials = nrows = 10*5\n",
    "\n",
    "installs = np.random.choice([0, 1], size = (nrows, ncols), p = [1/250, 249/250])\n",
    "installs = pd.DataFrame(installs)\n",
    "installs[\"fails\"] = installs.sum(axis=1)\n",
    "\n",
    "none_in_450_fails = (installs.fails == 450).mean()\n",
    "none_in_450_fails"
   ]
  },
  {
   "cell_type": "markdown",
   "id": "54c8874e",
   "metadata": {},
   "source": [
    "7. Ex 7"
   ]
  },
  {
   "cell_type": "code",
   "execution_count": null,
   "id": "cd089444",
   "metadata": {},
   "outputs": [],
   "source": [
    "n_rows = 10_000\n",
    "n_cols = 3\n",
    "trucks = np.random.choice([1, 0], size = (n_rows, n_cols), p =[0.7, 0.3])\n",
    "trucks.sum()"
   ]
  },
  {
   "cell_type": "markdown",
   "id": "9b7d6470",
   "metadata": {},
   "source": [
    "Exercise 8"
   ]
  },
  {
   "cell_type": "code",
   "execution_count": 24,
   "id": "30e1c8fc",
   "metadata": {},
   "outputs": [
    {
     "name": "stdout",
     "output_type": "stream",
     "text": [
      "0       23\n",
      "1       23\n",
      "2       24\n",
      "3       23\n",
      "4       24\n",
      "        ..\n",
      "9995    24\n",
      "9996    24\n",
      "9997    22\n",
      "9998    22\n",
      "9999    24\n",
      "Length: 10000, dtype: int64\n",
      "0.9788\n"
     ]
    },
    {
     "ename": "TypeError",
     "evalue": "'int' object is not iterable",
     "output_type": "error",
     "traceback": [
      "\u001b[0;31m---------------------------------------------------------------------------\u001b[0m",
      "\u001b[0;31mTypeError\u001b[0m                                 Traceback (most recent call last)",
      "\u001b[0;32m/var/folders/3n/86q7c8d16r51w8vg4g5kwq280000gn/T/ipykernel_25288/2105587895.py\u001b[0m in \u001b[0;36m<module>\u001b[0;34m\u001b[0m\n\u001b[1;32m     13\u001b[0m \u001b[0;31m#Rooms\u001b[0m\u001b[0;34m\u001b[0m\u001b[0;34m\u001b[0m\u001b[0m\n\u001b[1;32m     14\u001b[0m \u001b[0mx\u001b[0m \u001b[0;34m=\u001b[0m \u001b[0;36m100\u001b[0m\u001b[0;34m\u001b[0m\u001b[0;34m\u001b[0m\u001b[0m\n\u001b[0;32m---> 15\u001b[0;31m \u001b[0mN\u001b[0m \u001b[0;34m=\u001b[0m \u001b[0;34m[\u001b[0m\u001b[0mn\u001b[0m\u001b[0;34m*\u001b[0m \u001b[0;34m(\u001b[0m\u001b[0mn\u001b[0m\u001b[0;34m-\u001b[0m\u001b[0;36m1\u001b[0m\u001b[0;34m)\u001b[0m \u001b[0;34m/\u001b[0m \u001b[0;36m2\u001b[0m \u001b[0;32mfor\u001b[0m \u001b[0mn\u001b[0m \u001b[0;32min\u001b[0m \u001b[0mx\u001b[0m\u001b[0;34m]\u001b[0m\u001b[0;34m\u001b[0m\u001b[0;34m\u001b[0m\u001b[0m\n\u001b[0m",
      "\u001b[0;31mTypeError\u001b[0m: 'int' object is not iterable"
     ]
    }
   ],
   "source": [
    "\n",
    "#shared bdays\n",
    "nrows = 10_000\n",
    "ncols = 23 # 23 students\n",
    "np.random.choice(range(365), size=(nrows, ncols))\n",
    "birthdays = pd.DataFrame(np.random.choice(range(365), size=(nrows, ncols)))\n",
    "birthdays[\"n_unique\"] = birthdays.nunique(axis=1)\n",
    "print(birthdays.nunique(axis=1))\n",
    "\n",
    "#proportion of rows where we have multiple shared days\n",
    "(birthdays.n_unique != 20).mean()\n",
    "print((birthdays.n_unique != 20).mean())\n",
    "\n",
    "#Rooms\n",
    "x = 100\n",
    "N = [n* (n-1) / 2 for n in x]"
   ]
  },
  {
   "cell_type": "code",
   "execution_count": null,
   "id": "5f48240e",
   "metadata": {},
   "outputs": [],
   "source": []
  }
 ],
 "metadata": {
  "kernelspec": {
   "display_name": "Python 3 (ipykernel)",
   "language": "python",
   "name": "python3"
  },
  "language_info": {
   "codemirror_mode": {
    "name": "ipython",
    "version": 3
   },
   "file_extension": ".py",
   "mimetype": "text/x-python",
   "name": "python",
   "nbconvert_exporter": "python",
   "pygments_lexer": "ipython3",
   "version": "3.9.7"
  }
 },
 "nbformat": 4,
 "nbformat_minor": 5
}
