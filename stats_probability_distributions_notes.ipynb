{
 "cells": [
  {
   "cell_type": "code",
   "execution_count": 1,
   "id": "af180c68",
   "metadata": {},
   "outputs": [],
   "source": [
    "import matplotlib.pyplot as plt\n",
    "import numpy as np\n",
    "from scipy import stats\n",
    "import viz # curriculum viz example code\n",
    "\n",
    "np.random.seed(123)\n"
   ]
  },
  {
   "cell_type": "markdown",
   "id": "fce2ba55",
   "metadata": {},
   "source": [
    "## Definitions:\n",
    "\n",
    "probablility distribution includes:\n",
    "\n",
    "- probability of every outcome in the sample space\n",
    "\n",
    "- sample space: set of all outcomes. 6 for a normal dice\n",
    "\n",
    "- sum of all probabilites in the sample space is always 1"
   ]
  },
  {
   "cell_type": "markdown",
   "id": "7e3f12a2",
   "metadata": {},
   "source": [
    "### types of variables:\n",
    "\n",
    "- discrete: number of calls, number of cats and dogs\n",
    "\n",
    "- continuous: temperature, height"
   ]
  },
  {
   "cell_type": "markdown",
   "id": "8a7d1195",
   "metadata": {},
   "source": [
    "## Main types of distribution:"
   ]
  },
  {
   "cell_type": "markdown",
   "id": "9663581e",
   "metadata": {},
   "source": [
    "## uniform\n",
    "    rolling a fair six sided die"
   ]
  },
  {
   "cell_type": "markdown",
   "id": "da3378d2",
   "metadata": {},
   "source": [
    "### scipy objects\n",
    "- value -> probability  \n",
    "   -- pmf: probability at a particular value of random variable (only for discrete distributions!)  \n",
    "    -- pdf: probability at a particular value of random variable (for continuous distributions)  \n",
    "   -- cdf: cumulative probablity for less than or equal to value of random variable   \n",
    "   -- sf:  probability for a random variable **greater than** certain value\n",
    "- probability -> value  \n",
    "   -- ppf: less than or equal to a point \n",
    "   -- isf: greater than a point  \n",
    "- rvs for random values "
   ]
  },
  {
   "cell_type": "code",
   "execution_count": 3,
   "id": "baba250b",
   "metadata": {},
   "outputs": [
    {
     "data": {
      "text/plain": [
       "<scipy.stats._distn_infrastructure.rv_frozen at 0x7fe109c0d8b0>"
      ]
     },
     "execution_count": 3,
     "metadata": {},
     "output_type": "execute_result"
    }
   ],
   "source": [
    "die_distribution = stats.randint(1,7)\n",
    "die_distribution"
   ]
  },
  {
   "cell_type": "code",
   "execution_count": 4,
   "id": "75ae42bf",
   "metadata": {},
   "outputs": [
    {
     "data": {
      "text/plain": [
       "array([6, 3, 5, 3, 2, 4, 3, 4, 2, 2])"
      ]
     },
     "execution_count": 4,
     "metadata": {},
     "output_type": "execute_result"
    }
   ],
   "source": [
    "die_distribution.rvs(10) #random values"
   ]
  },
  {
   "cell_type": "code",
   "execution_count": 5,
   "id": "6d147558",
   "metadata": {},
   "outputs": [
    {
     "data": {
      "text/plain": [
       "0.16666666666666666"
      ]
     },
     "execution_count": 5,
     "metadata": {},
     "output_type": "execute_result"
    }
   ],
   "source": [
    "# What is the probability of rolling a 3?\n",
    "die_distribution.pmf(3) #property mass function, liklihood at certain point, discrete variables"
   ]
  },
  {
   "cell_type": "code",
   "execution_count": 8,
   "id": "36615563",
   "metadata": {},
   "outputs": [
    {
     "data": {
      "text/plain": [
       "0.5"
      ]
     },
     "execution_count": 8,
     "metadata": {},
     "output_type": "execute_result"
    }
   ],
   "source": [
    "# P(3 or less)\n",
    "die_distribution.cdf(3) #cumulative property\n"
   ]
  },
  {
   "cell_type": "code",
   "execution_count": 9,
   "id": "999783be",
   "metadata": {},
   "outputs": [
    {
     "data": {
      "text/plain": [
       "3.0"
      ]
     },
     "execution_count": 9,
     "metadata": {},
     "output_type": "execute_result"
    }
   ],
   "source": [
    "#Inverse (we have the output, need input)\n",
    "die_distribution.ppf(0.5)"
   ]
  },
  {
   "cell_type": "code",
   "execution_count": 10,
   "id": "6c5b563c",
   "metadata": {},
   "outputs": [
    {
     "data": {
      "text/plain": [
       "0.33333333333333337"
      ]
     },
     "execution_count": 10,
     "metadata": {},
     "output_type": "execute_result"
    }
   ],
   "source": [
    "#P(>4) >> use a survival function\n",
    "die_distribution.sf(4) #survival function, 5 or 6 probability to roll\n"
   ]
  },
  {
   "cell_type": "code",
   "execution_count": 11,
   "id": "dbaca950",
   "metadata": {},
   "outputs": [
    {
     "data": {
      "text/plain": [
       "4.0"
      ]
     },
     "execution_count": 11,
     "metadata": {},
     "output_type": "execute_result"
    }
   ],
   "source": [
    "#P(1/3 a dice roll will be higher than what value?)\n",
    "die_distribution.isf(1/3) #inverse survival function"
   ]
  },
  {
   "cell_type": "markdown",
   "id": "7338ba41",
   "metadata": {},
   "source": [
    "## normal distribution == continuous variables\n",
    "\n",
    "- bell curve\n",
    "- heights are normally distributed\n",
    "- average flight times to the same location\n",
    "- mean (mu) and standard deviation (sigma) are needed"
   ]
  },
  {
   "cell_type": "markdown",
   "id": "48645643",
   "metadata": {},
   "source": [
    "#### Suppose that a store's daily sales are normally distributed with a mean of 12,000 dollars and standard deviation of 2000 dollars.\n",
    " - What is the probability that sales are 10,000 dollars on a certain day.     \n",
    " - What is the probability that sales are 10,000 dollars <ins>or less</ins> on a certain day.\n",
    " - What is the probability that sales are greater than 15,000 dollars on a certain day.\n",
    " - How much would the daily sales have to be to be in the top 10% of all days?\n",
    " ####  What is the probability that sales are 10,000 dollars on a certain day?\n",
    "#### What is the probability that sales are 10,000 dollars or less on a certain day.\n",
    "#### What is the probability that sales are greater than 15,000 dollars on a certain day?\n",
    "#### How much would the daily sales have to be to be in the top 10% of all days?"
   ]
  },
  {
   "cell_type": "code",
   "execution_count": 12,
   "id": "84135d00",
   "metadata": {},
   "outputs": [],
   "source": [
    "# stats.norm(mean, std_dev)"
   ]
  },
  {
   "cell_type": "code",
   "execution_count": 13,
   "id": "831dd1db",
   "metadata": {},
   "outputs": [],
   "source": [
    "# random variable = sales\n",
    "# parameters:\n",
    "mean = 12_000\n",
    "std_dev = 2000\n",
    "#generate a dist:\n",
    "sales = stats.norm(mean, std_dev)"
   ]
  },
  {
   "cell_type": "code",
   "execution_count": 14,
   "id": "18951b65",
   "metadata": {},
   "outputs": [
    {
     "data": {
      "text/plain": [
       "0.00012098536225957169"
      ]
     },
     "execution_count": 14,
     "metadata": {},
     "output_type": "execute_result"
    }
   ],
   "source": [
    "sales.pdf(10000) #probability at a certain variable = pdf"
   ]
  },
  {
   "cell_type": "code",
   "execution_count": 15,
   "id": "d04bcef7",
   "metadata": {},
   "outputs": [
    {
     "data": {
      "text/plain": [
       "0.15865525393145707"
      ]
     },
     "execution_count": 15,
     "metadata": {},
     "output_type": "execute_result"
    }
   ],
   "source": [
    "sales.cdf(10000) #probability variable or less than certain variable = cdf"
   ]
  },
  {
   "cell_type": "code",
   "execution_count": 16,
   "id": "fe1d2fb3",
   "metadata": {},
   "outputs": [
    {
     "data": {
      "text/plain": [
       "0.06680720126885807"
      ]
     },
     "execution_count": 16,
     "metadata": {},
     "output_type": "execute_result"
    }
   ],
   "source": [
    "sales.sf(15000) #probability variable or higher = sf\n",
    "# or 1-cdf of 15000"
   ]
  },
  {
   "cell_type": "code",
   "execution_count": 17,
   "id": "e54ae697",
   "metadata": {},
   "outputs": [
    {
     "data": {
      "text/plain": [
       "14563.103131089201"
      ]
     },
     "execution_count": 17,
     "metadata": {},
     "output_type": "execute_result"
    }
   ],
   "source": [
    "sales.isf(.10) # sales value from probability/percentile value = isf"
   ]
  },
  {
   "cell_type": "markdown",
   "id": "461efc8c",
   "metadata": {},
   "source": [
    "#### Mini Exercise:\n",
    "\n",
    "The average battery life for a fully charges iphone-12 is 14 hours with standard deviation of 1.5 hour\n",
    "\n",
    "\n",
    "1. What kind of probability distribution represents the random variable \"battery life in hours\"?\n",
    "\n",
    "\n",
    "2. What are the appropriate defining parameters for this distribution?\n",
    "\n",
    "\n",
    "3. Create a Scipy object/instance for this distribution\n",
    "\n",
    "\n",
    "4. Use the object create above and choose appropriate method (e.g. pmf, cdf, ppf etc.) to calculate the following:  \n",
    "\n",
    "\n",
    "     a. What is the probability the cell phone battery more than 16 hours.  \n",
    "     b. What is probability that cell phone battery lasts for exactly 12 hours.  \n",
    "     c. What is the probability that cell phone battery lasts for 12 hours or less.  \n",
    "     d. How many hours do the battery lasts for top 25% longest lasting phones.  "
   ]
  },
  {
   "cell_type": "code",
   "execution_count": 19,
   "id": "99800435",
   "metadata": {},
   "outputs": [
    {
     "data": {
      "text/plain": [
       "<scipy.stats._distn_infrastructure.rv_frozen at 0x7fe10a682460>"
      ]
     },
     "execution_count": 19,
     "metadata": {},
     "output_type": "execute_result"
    }
   ],
   "source": [
    "mean = 14\n",
    "std_dev = 1.5\n",
    "\n",
    "battery_life = stats.norm(mean, std_dev)\n",
    "battery_life"
   ]
  },
  {
   "cell_type": "code",
   "execution_count": 20,
   "id": "6841f9d1",
   "metadata": {},
   "outputs": [
    {
     "data": {
      "text/plain": [
       "0.09121121972586788"
      ]
     },
     "execution_count": 20,
     "metadata": {},
     "output_type": "execute_result"
    }
   ],
   "source": [
    "battery_life.sf(16) # p(battery > 16) = sf"
   ]
  },
  {
   "cell_type": "code",
   "execution_count": 21,
   "id": "3ffc8240",
   "metadata": {},
   "outputs": [
    {
     "data": {
      "text/plain": [
       "0.10934004978399577"
      ]
     },
     "execution_count": 21,
     "metadata": {},
     "output_type": "execute_result"
    }
   ],
   "source": [
    "battery_life.pdf(12) #"
   ]
  },
  {
   "cell_type": "code",
   "execution_count": 26,
   "id": "fa31df17",
   "metadata": {},
   "outputs": [
    {
     "data": {
      "text/plain": [
       "0.09121121972586788"
      ]
     },
     "execution_count": 26,
     "metadata": {},
     "output_type": "execute_result"
    }
   ],
   "source": [
    "battery_life.cdf(12)"
   ]
  },
  {
   "cell_type": "code",
   "execution_count": 27,
   "id": "297fe21a",
   "metadata": {},
   "outputs": [
    {
     "data": {
      "text/plain": [
       "15.011734625294123"
      ]
     },
     "execution_count": 27,
     "metadata": {},
     "output_type": "execute_result"
    }
   ],
   "source": [
    "battery_life.isf(0.25)"
   ]
  },
  {
   "cell_type": "markdown",
   "id": "be34dc00",
   "metadata": {},
   "source": [
    "## binomial distribution == discrete variables (bianry outcome, win/lose)"
   ]
  },
  {
   "cell_type": "markdown",
   "id": "8f642fbf",
   "metadata": {},
   "source": [
    " - discrete probability distribution\n",
    " - defined by number of trials >> these are the upper bound of values\n",
    " - probability of success in each trial\n",
    "         - each trial independent probability\n",
    "         - prob across trials is equal\n",
    "         - each trial is independent\n",
    "         - random variable (x) is success in each trial\n"
   ]
  },
  {
   "cell_type": "code",
   "execution_count": 28,
   "id": "71cff372",
   "metadata": {},
   "outputs": [],
   "source": [
    "# making a binomial dist\n",
    "# x axis is number of successful trials e.g. the number of heads\n"
   ]
  },
  {
   "cell_type": "markdown",
   "id": "2f9d57b2",
   "metadata": {},
   "source": [
    "\n",
    "#### Example: Suppose we flip a fair coin 5 times in a row. What is probability of getting exactly 1 head.\n",
    "\n",
    "Random variable X = Number of heads (success) from flipping a coin 5 times\n",
    "\n",
    "\n",
    " What is a trial?\n",
    "\n",
    "Define what is 'success'.\n",
    "\n",
    "Total possible outcomes for 5 coin flips = 2.2.2.2.2 = 32"
   ]
  },
  {
   "cell_type": "code",
   "execution_count": 29,
   "id": "c8265f25",
   "metadata": {},
   "outputs": [
    {
     "data": {
      "text/plain": [
       "<scipy.stats._distn_infrastructure.rv_frozen at 0x7fe10a677f10>"
      ]
     },
     "execution_count": 29,
     "metadata": {},
     "output_type": "execute_result"
    }
   ],
   "source": [
    "# p(0 heads in 5 trials)\n",
    "n_trials = 5\n",
    "p = 0.5 # (prob of success)\n",
    "\n",
    "flips = stats.binom(n_trials, p)\n",
    "flips"
   ]
  },
  {
   "cell_type": "code",
   "execution_count": 31,
   "id": "3114b825",
   "metadata": {},
   "outputs": [
    {
     "data": {
      "text/plain": [
       "0.03125"
      ]
     },
     "execution_count": 31,
     "metadata": {},
     "output_type": "execute_result"
    }
   ],
   "source": [
    "flips.pmf(0) #pmf for liklihood of a specific outcome for discrete variable"
   ]
  },
  {
   "cell_type": "code",
   "execution_count": 32,
   "id": "17e706c0",
   "metadata": {},
   "outputs": [
    {
     "data": {
      "text/plain": [
       "0.31249999999999983"
      ]
     },
     "execution_count": 32,
     "metadata": {},
     "output_type": "execute_result"
    }
   ],
   "source": [
    "flips.pmf(2) #pmf for a specific outcome for a discrete variable"
   ]
  },
  {
   "cell_type": "code",
   "execution_count": 33,
   "id": "56be521a",
   "metadata": {},
   "outputs": [
    {
     "data": {
      "text/plain": [
       "0.15624999999999997"
      ]
     },
     "execution_count": 33,
     "metadata": {},
     "output_type": "execute_result"
    }
   ],
   "source": [
    "flips.pmf(1) #pmf for discrete variables"
   ]
  },
  {
   "cell_type": "markdown",
   "id": "367a8c5b",
   "metadata": {},
   "source": [
    "#### Rigged coin distribution\n",
    "- Probability of success (getting 'heads' in a coin toss) = 0.7  \n",
    "- number of trials = 5"
   ]
  },
  {
   "cell_type": "code",
   "execution_count": 34,
   "id": "2d370be7",
   "metadata": {},
   "outputs": [
    {
     "data": {
      "text/plain": [
       "<scipy.stats._distn_infrastructure.rv_frozen at 0x7fe10a672c40>"
      ]
     },
     "execution_count": 34,
     "metadata": {},
     "output_type": "execute_result"
    }
   ],
   "source": [
    "n_trials = 5\n",
    "p = 0.7\n",
    "flips = stats.binom(n_trials, p)\n",
    "flips"
   ]
  },
  {
   "cell_type": "code",
   "execution_count": 35,
   "id": "96fe6000",
   "metadata": {},
   "outputs": [
    {
     "data": {
      "text/plain": [
       "0.16806999999999994"
      ]
     },
     "execution_count": 35,
     "metadata": {},
     "output_type": "execute_result"
    }
   ],
   "source": [
    "flips.pmf(5)"
   ]
  },
  {
   "cell_type": "markdown",
   "id": "d8975524",
   "metadata": {},
   "source": [
    "#### Example Binomial distribution:  \n",
    "You are taking a multiple choice test consisting of 30 questions that you forgot to study for. Each question has 4 possible answers and you will choose one at random. What is the probability you get 11 or more questions right?"
   ]
  },
  {
   "cell_type": "code",
   "execution_count": 36,
   "id": "75240107",
   "metadata": {},
   "outputs": [
    {
     "data": {
      "text/plain": [
       "<scipy.stats._distn_infrastructure.rv_frozen at 0x7fe10a667340>"
      ]
     },
     "execution_count": 36,
     "metadata": {},
     "output_type": "execute_result"
    }
   ],
   "source": [
    "n_questions = 30\n",
    "p = 0.25\n",
    "\n",
    "correct_answers = stats.binom(n_questions, p)\n",
    "correct_answers"
   ]
  },
  {
   "cell_type": "code",
   "execution_count": 37,
   "id": "26454f62",
   "metadata": {},
   "outputs": [
    {
     "data": {
      "text/plain": [
       "0.05065828005155163"
      ]
     },
     "execution_count": 37,
     "metadata": {},
     "output_type": "execute_result"
    }
   ],
   "source": [
    "correct_answers.sf(10) #sf is exclusive so it will not count the number listed\n",
    "# therefore we list 10, one number lower than the target amount, b/c we want odds of 11 and higher"
   ]
  },
  {
   "cell_type": "code",
   "execution_count": 38,
   "id": "ce8e4671",
   "metadata": {},
   "outputs": [
    {
     "data": {
      "text/plain": [
       "0.7974019257778622"
      ]
     },
     "execution_count": 38,
     "metadata": {},
     "output_type": "execute_result"
    }
   ],
   "source": [
    "correct_answers.sf(5)"
   ]
  },
  {
   "cell_type": "markdown",
   "id": "960c9f32",
   "metadata": {},
   "source": [
    "#### Mini Exercise\n",
    "\n",
    "The probability that a visitor will make a purchase when browsing in your web-store is 1.5%. You expect 350 web-visitors today \n",
    "\n",
    "\n",
    "1. What kind of probability distribution you have for \"# number of visitors who end up making a purchase\"?\n",
    "\n",
    "\n",
    "2. What are the appropriate defining parameters for this distribution?\n",
    "\n",
    "\n",
    "3. Create a Scipy object/instance for this distribution\n",
    "\n",
    "\n",
    "\n",
    "4. Use the object create above and choose appropriate method (e.g. pmf, cdf, ppf etc.) to calculate the following:  \n",
    "\n",
    "\n",
    "     a. What is the probability that exactly 10 vistors will make the a purchase?\n",
    "     b. What is probability 13 or more visitors will make a purchase?  \n",
    "     c. What is probability that 10 or less visitors will make a purchase?\n",
    "     d. Visualize the resulting distribution (hint: try a bar chart)"
   ]
  },
  {
   "cell_type": "code",
   "execution_count": 39,
   "id": "e3016af3",
   "metadata": {},
   "outputs": [
    {
     "data": {
      "text/plain": [
       "<scipy.stats._distn_infrastructure.rv_frozen at 0x7fe109f93e50>"
      ]
     },
     "execution_count": 39,
     "metadata": {},
     "output_type": "execute_result"
    }
   ],
   "source": [
    "visitors = 350\n",
    "p = 0.015\n",
    "\n",
    "purchase_agg = stats.binom(visitors, p)\n",
    "purchase_agg"
   ]
  },
  {
   "cell_type": "code",
   "execution_count": 40,
   "id": "8a9724d0",
   "metadata": {},
   "outputs": [
    {
     "data": {
      "text/plain": [
       "0.02258386964827325"
      ]
     },
     "execution_count": 40,
     "metadata": {},
     "output_type": "execute_result"
    }
   ],
   "source": [
    "# p(10 purchases), pmf: prob at certain value, discrete. mddc = pmf: discrete, pdf: continuous\n",
    "purchase_agg.pmf(10)"
   ]
  },
  {
   "cell_type": "code",
   "execution_count": 41,
   "id": "995b45c4",
   "metadata": {},
   "outputs": [
    {
     "data": {
      "text/plain": [
       "0.0028028606293498577"
      ]
     },
     "execution_count": 41,
     "metadata": {},
     "output_type": "execute_result"
    }
   ],
   "source": [
    "# 13 or greater, sf = survival function, gives probability of occurence at given value or higher\n",
    "purchase_agg.sf(12) "
   ]
  },
  {
   "cell_type": "code",
   "execution_count": 42,
   "id": "b942fde6",
   "metadata": {},
   "outputs": [
    {
     "data": {
      "text/plain": [
       "0.9819938585504351"
      ]
     },
     "execution_count": 42,
     "metadata": {},
     "output_type": "execute_result"
    }
   ],
   "source": [
    "# less than 10, cdf gives probability of occurence at given value or lower\n",
    "purchase_agg.cdf(10)\n",
    "# apply to python installs problem"
   ]
  },
  {
   "cell_type": "code",
   "execution_count": 44,
   "id": "45bf0b4a",
   "metadata": {},
   "outputs": [
    {
     "data": {
      "text/plain": [
       "<BarContainer object of 15 artists>"
      ]
     },
     "execution_count": 44,
     "metadata": {},
     "output_type": "execute_result"
    },
    {
     "data": {
      "image/png": "[encoded data removed]",
      "text/plain": [
       "<Figure size 648x432 with 1 Axes>"
      ]
     },
     "metadata": {
      "needs_background": "light"
     },
     "output_type": "display_data"
    }
   ],
   "source": [
    "# plot data\n",
    "x = np.arange(0, 15)\n",
    "y = purchase_agg.pmf(x)\n",
    "\n",
    "plt.bar(x, y)"
   ]
  },
  {
   "cell_type": "markdown",
   "id": "8703fae6",
   "metadata": {},
   "source": [
    "## Poisson distribution == discrete variables (more than binary outcomes)\n",
    "- but...expresses the probability of a number of events occuring in an interval of time\n",
    "- no upper bound (x axis)\n",
    "- only one parameter(lambda: occurence rate of target variable)\n",
    "- independent probabilities\n",
    "- probability of occurence does not change during period being measured"
   ]
  },
  {
   "cell_type": "markdown",
   "id": "1e4987ca",
   "metadata": {},
   "source": [
    "#### Real life examples:\n",
    "\n",
    "Telecommunications: # of calls arriving in to customer service.  \n",
    "\n",
    "Astronomy: photons arriving at a telescope.\n",
    "\n",
    "Biology: the number of mutations on a strand of DNA per unit length.  \n",
    "\n",
    "Management: customers arriving at a counter or call centre.\n",
    "\n",
    "Finance and insurance: number of losses or claims occurring in a given period of time.  \n",
    "\n",
    "Radioactivity: number of decays in a given time interval in a radioactive sample.\n"
   ]
  },
  {
   "cell_type": "markdown",
   "id": "c5b8438e",
   "metadata": {},
   "source": [
    "#### Example\n",
    "Suppose that astronomers estimate that large meteorites (above a certain size) hit the earth on average once every 100 years (λ = 1 event per 100 years), and that the number of meteorite hits follows a Poisson distribution.\n",
    "\n",
    "What is the probability of k = 0 meteorite hits in the next 100 years?"
   ]
  },
  {
   "cell_type": "code",
   "execution_count": 46,
   "id": "b4f27bac",
   "metadata": {},
   "outputs": [
    {
     "data": {
      "text/plain": [
       "0.36787944117144233"
      ]
     },
     "execution_count": 46,
     "metadata": {},
     "output_type": "execute_result"
    }
   ],
   "source": [
    "strikes = 1 #number of strikes per 100 years\n",
    "\n",
    "stats.poisson(strikes).pmf(0)"
   ]
  },
  {
   "cell_type": "code",
   "execution_count": 47,
   "id": "fa3b70c8",
   "metadata": {},
   "outputs": [
    {
     "data": {
      "text/plain": [
       "Text(0, 0.5, 'P(Strike)')"
      ]
     },
     "execution_count": 47,
     "metadata": {},
     "output_type": "execute_result"
    },
    {
     "data": {
      "image/png": "[encoded data removed]",
      "text/plain": [
       "<Figure size 648x432 with 1 Axes>"
      ]
     },
     "metadata": {
      "needs_background": "light"
     },
     "output_type": "display_data"
    }
   ],
   "source": [
    "x = np.arange(0, 10)\n",
    "y = stats.poisson(strikes).pmf(x) #probability at value\n",
    "\n",
    "plt.bar(x, y)\n",
    "plt.xlabel('Meteorite strikes per 100 yrs')\n",
    "plt.ylabel('P(Strike)')"
   ]
  },
  {
   "cell_type": "markdown",
   "id": "f2f2722b",
   "metadata": {},
   "source": [
    "#### Mini Exercise:\n",
    "\n",
    "Average number of customers going through CVS drive-through is 8 per hour. \n",
    "\n",
    "1. What kind of distribution we are working with?\n",
    "\n",
    "\n",
    "2. What are the appropriate defining parameters for this distribution?\n",
    "\n",
    "\n",
    "3. Create a Scipy object/instance for this distribution\n",
    "\n",
    "\n",
    "\n",
    "4. Use the object create above and choose appropriate method (e.g. pmf, cdf, ppf etc.) to calculate the probability that 11 cars customers will go through in next hr."
   ]
  },
  {
   "cell_type": "code",
   "execution_count": 52,
   "id": "4c998656",
   "metadata": {},
   "outputs": [
    {
     "data": {
      "text/plain": [
       "<scipy.stats._distn_infrastructure.rv_frozen at 0x7fe10a5e1e20>"
      ]
     },
     "execution_count": 52,
     "metadata": {},
     "output_type": "execute_result"
    }
   ],
   "source": [
    "customers = 8 #customers per hour\n",
    "stats.poisson(customers)"
   ]
  },
  {
   "cell_type": "code",
   "execution_count": 54,
   "id": "e0d237b1",
   "metadata": {},
   "outputs": [
    {
     "data": {
      "text/plain": [
       "0.07219020642293475"
      ]
     },
     "execution_count": 54,
     "metadata": {},
     "output_type": "execute_result"
    }
   ],
   "source": [
    "stats.poisson(customers).pmf(11)\n",
    "#syntax: module.operation(frequency of occurence).pmf(target level occurence)"
   ]
  },
  {
   "cell_type": "code",
   "execution_count": null,
   "id": "9611e80b",
   "metadata": {},
   "outputs": [],
   "source": []
  }
 ],
 "metadata": {
  "kernelspec": {
   "display_name": "Python 3 (ipykernel)",
   "language": "python",
   "name": "python3"
  },
  "language_info": {
   "codemirror_mode": {
    "name": "ipython",
    "version": 3
   },
   "file_extension": ".py",
   "mimetype": "text/x-python",
   "name": "python",
   "nbconvert_exporter": "python",
   "pygments_lexer": "ipython3",
   "version": "3.9.7"
  }
 },
 "nbformat": 4,
 "nbformat_minor": 5
}
